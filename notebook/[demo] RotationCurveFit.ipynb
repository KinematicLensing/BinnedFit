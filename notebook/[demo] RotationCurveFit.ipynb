{
 "cells": [
  {
   "cell_type": "code",
   "execution_count": 1,
   "metadata": {},
   "outputs": [],
   "source": [
    "import numpy as np\n",
    "%config InlineBackend.figure_format = 'retina'\n",
    "import matplotlib.pyplot as plt\n",
    "\n",
    "import astropy.units as u\n",
    "import astropy.constants as constants\n",
    "\n",
    "import sys\n",
    "import os\n",
    "dir_current = globals()['_dh'][0]\n",
    "dir_repo = dir_current+'/../..'\n",
    "dir_BinnedFit = dir_repo+\"/BinnedFit\"\n",
    "dir_KLens = dir_repo+\"/KLens\"\n",
    "\n",
    "\n",
    "sys.path.append(dir_BinnedFit)\n",
    "from gen_mocks import gen_mock_tfCube\n",
    "from RotationCurveFit import RotationCurveFit, GaussFit_signle\n",
    "from ChainTool import ChainTool\n",
    "from chainconsumer import ChainConsumer"
   ]
  },
  {
   "cell_type": "markdown",
   "metadata": {},
   "source": [
    "# setup parameters"
   ]
  },
  {
   "cell_type": "code",
   "execution_count": 2,
   "metadata": {
    "scrolled": true
   },
   "outputs": [],
   "source": [
    "###### set up parameters ######\n",
    "\n",
    "line_species='Halpha'\n",
    "\n",
    "pars = {}\n",
    "pars['g1'] = 0.0\n",
    "pars['g2'] = 0.0\n",
    "pars['sini'] = 0.5\n",
    "\n",
    "pars['redshift'] = 0.4\n",
    "\n",
    "pars['aspect'] = 0.2\n",
    "pars['r_hl_image'] = 0.5\n",
    "pars['r_hl_spec'] = 0.5\n",
    "\n",
    "\n",
    "pars['theta_int'] = 0. #np.pi/3.\n",
    "\n",
    "pars['slitWidth'] = 0.12\n",
    "pars['ngrid'] = 128\n",
    "\n",
    "pars['norm'] = 0.0\n",
    "\n",
    "pars['Resolution'] = 5000.\n",
    "pars['expTime'] = 60.*30. #60.*30.\n",
    "pars['pixScale'] = 0.1185\n",
    "pars['nm_per_pixel'] = 0.033\n",
    "pars['throughput'] = 0.29\n",
    "pars['psfFWHM'] = 0.5\n",
    "\n",
    "pars['area'] = 3.14 * (1000./2.)**2 \n",
    "\n",
    "pars['vcirc'] = 200.\n",
    "\n",
    "linelist = np.empty(5,dtype=[('species',np.str_,16),\n",
    "                                  ('lambda',np.float),\n",
    "                                  ('flux',np.float)])\n",
    "linelist['species'] = ['OIIa','OIIb','OIIIa','OIIIb','Halpha']\n",
    "linelist['lambda'] =  [372.7092,372.9875,496.0295,500.8240,656.461]\n",
    "\n",
    "fiber_SDSS = np.pi * 1.5**2\n",
    "refSDSSspec = 3.*1e-17 * u.erg/u.second/u.Angstrom/u.cm**2\n",
    "refSDSSspec = refSDSSspec.to(u.erg/u.second/u.nm/u.cm**2)\n",
    "\n",
    "linelist['flux'] = refSDSSspec.value / fiber_SDSS  # [unit: erg/s/cm2/nm/arcsec2]\n",
    "\n",
    "pars['linelist'] = linelist\n"
   ]
  },
  {
   "cell_type": "markdown",
   "metadata": {},
   "source": [
    "# generate mock data"
   ]
  },
  {
   "cell_type": "code",
   "execution_count": null,
   "metadata": {},
   "outputs": [],
   "source": [
    "dataInfo = gen_mock_tfCube(pars, line_species, noise_mode=0)"
   ]
  },
  {
   "cell_type": "markdown",
   "metadata": {},
   "source": [
    "# 2D spec "
   ]
  },
  {
   "cell_type": "code",
   "execution_count": null,
   "metadata": {},
   "outputs": [],
   "source": [
    "# init Fit tool\n",
    "RotFit = RotationCurveFit(dataInfo, \\\n",
    "                          active_par_key = ['vcirc', 'sini', 'vscale', 'r_0', 'v_0', 'g1', 'g2', 'theta_int'], \\\n",
    "                          thresholdSNR = 5.e-6) #"
   ]
  },
  {
   "cell_type": "code",
   "execution_count": null,
   "metadata": {},
   "outputs": [],
   "source": [
    "active_par_test = np.zeros(len(RotFit.active_par_key))\n",
    "for j, item in enumerate(RotFit.active_par_key):\n",
    "    active_par_test[j] = RotFit.par_fid[item]\n",
    "active_par_test"
   ]
  },
  {
   "cell_type": "code",
   "execution_count": null,
   "metadata": {},
   "outputs": [],
   "source": [
    "chi2 = RotFit.cal_chi2(active_par=active_par_test)\n",
    "chi2"
   ]
  },
  {
   "cell_type": "code",
   "execution_count": null,
   "metadata": {},
   "outputs": [],
   "source": [
    "%time loglike = RotFit.cal_loglike(active_par=active_par_test)\n",
    "loglike"
   ]
  },
  {
   "cell_type": "code",
   "execution_count": null,
   "metadata": {},
   "outputs": [],
   "source": [
    "active_par_test[0] = 190.\n",
    "loglike = RotFit.cal_loglike(active_par=active_par_test)\n",
    "loglike"
   ]
  },
  {
   "cell_type": "code",
   "execution_count": null,
   "metadata": {},
   "outputs": [],
   "source": []
  },
  {
   "cell_type": "code",
   "execution_count": null,
   "metadata": {},
   "outputs": [],
   "source": [
    "# find fitting parameters using MCMC (get error bars as well)\n",
    "chain_info = RotFit.run_MCMC(Nwalker=100, Nsteps=3000)"
   ]
  },
  {
   "cell_type": "code",
   "execution_count": null,
   "metadata": {},
   "outputs": [],
   "source": [
    "Chain = ChainTool(chain_info, Nburn=150000, Nend=300000)\n",
    "\n",
    "blue        = \"#214F94\"\n",
    "red         = \"#CC0204\"\n",
    "yellow      = \"#FFA903\"\n",
    "gray        = \"#858278\"\n",
    "black       = \"#000000\"\n",
    "green       = \"#73ab24\"\n",
    "purple      = \"#8600C8\"\n",
    "lightblue   = \"#6898FF\"\n",
    "lightblue2  = \"#82b9e6\"\n",
    "yellowgreen = \"#8dcd32\" #\"#8DE900\"\n",
    "lightteal   = \"#7FC2BF\"\n",
    "teal        = \"#51ABAE\"\n",
    "lightgray   = \"#CDCDCD\""
   ]
  },
  {
   "cell_type": "code",
   "execution_count": null,
   "metadata": {},
   "outputs": [],
   "source": [
    "Nchains = 1\n",
    "colors = [gray, lightblue, red, yellow, blue, yellowgreen, green, green, black]\n",
    "lines = [\"-\", '--', \"--\", \"-.\", '-', \":\", \"--\", ':']\n",
    "\n",
    "statistics=\"max\"\n",
    "\n",
    "select_par_key = RotFit.active_par_key #, 'vscale' , 'sini'\n",
    "legend_chain = \"sini=%.3f\"%pars['sini']\n",
    "\n",
    "parID1, parName1, par_x1 = Chain.select_par_info(select_par_key)\n",
    "\n",
    "c = ChainConsumer()\n",
    "c.add_chain(Chain.chain[:, parID1]       , parameters=parName1 ,name=legend_chain)\n",
    "\n",
    "c.configure(linewidths=2.5,sigmas=np.array([0,1,2]),bins=0.5,sigma2d=False,label_font_size=20,tick_font_size=20\n",
    "            ,colors=colors\n",
    "            ,shade=[False]*Nchains\n",
    "            ,statistics=statistics,summary=True\n",
    "            ,linestyles=lines\n",
    "            ,shade_gradient=[0]*Nchains\n",
    "            ,bar_shade=[True]*Nchains)\n",
    "\n",
    "c.configure_truth(color=\"gray\",lw=1,ls=\"-\",alpha=0.8, zorder=-1)\n",
    "fig = c.plotter.plot(legend=True, truth=par_x1)\n",
    "\n",
    "fig.subplots_adjust(left=0.12, right=0.99, bottom=0.11, top=0.99)\n",
    "\n",
    "fig.set_size_inches(2.5 + fig.get_size_inches())\n",
    "#fig.savefig(\"fig1.pdf\", transparent=True)"
   ]
  },
  {
   "cell_type": "markdown",
   "metadata": {},
   "source": [
    "# Plot spectrum"
   ]
  },
  {
   "cell_type": "code",
   "execution_count": null,
   "metadata": {},
   "outputs": [],
   "source": [
    "# get pixel edges\n",
    "\n",
    "j=0\n",
    "\n",
    "spec2D = RotFit.spec[j]\n",
    "\n",
    "lambda_min = np.min(spec2D.lambdaGrid)  ; lambda_MAX = np.max(spec2D.lambdaGrid)\n",
    "x_min = np.min(spec2D.spaceGrid)        ; x_MAX = np.max(spec2D.spaceGrid)\n",
    "\n",
    "lambda0 = RotFit.lambda0\n",
    "lambdaGrid, spaceGrid = spec2D.lambdaGrid, spec2D.spaceGrid\n",
    "\n",
    "######\n",
    "\n",
    "GaussFit = GaussFit_signle(spec2D=spec2D, lambda0=lambda0, thresholdSNR=RotFit.thresholdSNR)\n",
    "\n",
    "fitted_peakLambda, fitted_amp, fitted_sigma = GaussFit.gaussFit_spec2D()\n",
    "model = GaussFit.model_spec2D(fitted_peakLambda, fitted_amp, fitted_sigma)\n",
    "data = GaussFit.spec2D.array\n",
    "\n",
    "%matplotlib inline\n",
    "\n",
    "ncol=3\n",
    "\n",
    "fig,ax = plt.subplots(1,ncol,figsize=(20,5))\n",
    "plt.rc('font',size=16)\n",
    "\n",
    "img0=ax[0].imshow(data.T , extent=[x_min, x_MAX, lambda_min, lambda_MAX ], aspect='auto',cmap='Greys', origin=\"lower\")\n",
    "img1=ax[1].imshow(model.T, extent=[x_min, x_MAX, lambda_min, lambda_MAX ], aspect='auto',cmap='Greys', origin=\"lower\")\n",
    "img2=ax[2].imshow((data.T-model.T), extent=[x_min, x_MAX, lambda_min, lambda_MAX ], aspect='auto',cmap=plt.cm.seismic, origin=\"lower\")\n",
    "fig.colorbar(img2, ax=ax[2])\n",
    "fig.colorbar(img0, ax=ax[0])\n",
    "fig.colorbar(img1, ax=ax[1])\n",
    "\n",
    "\n",
    "#### gaussfit image peak identification summary (yellow)\n",
    "ax[1].errorbar(spaceGrid[1::3], fitted_peakLambda[1::3], fitted_sigma[1::3] ,color='orange', marker='o', markersize=2,ls='none',label='gauss1D fit on 2D spec')\n",
    "ax[0].errorbar(spaceGrid[1::3], fitted_peakLambda[1::3], fitted_sigma[1::3] ,color='orange', marker='o', markersize=2,ls='none',label='gauss1D fit on 2D spec')\n",
    "\n",
    "\n",
    "#### result of fiducial rotation curve (black)\n",
    "par_fid = RotFit.par_fid.copy()\n",
    "fidicual_rot = RotFit.model_arctan_rotation(r=spaceGrid, vcirc=par_fid['vcirc'], sini=par_fid['sini'], \\\n",
    "                                           vscale=par_fid['vscale'], r_0=par_fid['r_0'], v_0=par_fid['v_0'], \\\n",
    "                                           g1=par_fid['g1'], g2=par_fid['g2'], theta_int=par_fid['theta_int'], \\\n",
    "                                           redshift=par_fid['redshift'], slitAngle=par_fid['slitAngles'][j])\n",
    "\n",
    "# theta_test = 120.\n",
    "# theta_test = theta_test * np.pi/180.\n",
    "# fidicual_rot = RotFit.model_arctan_rotation(r=spaceGrid, vcirc=par_fid['vcirc'], sini=par_fid['sini'], \\\n",
    "#                                             vscale=par_fid['vscale'], r_0=par_fid['r_0'], v_0=par_fid['v_0'], \\\n",
    "#                                             g1=par_fid['g1'], g2=par_fid['g2'], theta_int=par_fid['theta_int'], \\\n",
    "#                                             redshift=par_fid['redshift'], slitAngle=theta_test)\n",
    "ax[1].plot(spaceGrid[2::4],fidicual_rot[2::4],color='b',ls='-',label='fiducial rot.', zorder=10)\n",
    "\n",
    "\n",
    "#### result of bestfit from MCMC sampling (red)\n",
    "# par_BF_MC = Chain.par_bestfit(select_par_key=None, statistics='max', mode=0)\n",
    "\n",
    "# MC_rot = RotFit.model_arctan_rotation(spaceGrid, vcirc=par_BF_MC['vcirc'][1], \\\n",
    "#                                       sini=par_BF_MC['sini'][1], vscale=par_BF_MC['vscale'][1], \\\n",
    "#                                       r_0=par_BF_MC['r_0'][1], v_0=par_BF_MC['v_0'][1], \\\n",
    "#                                       redshift=par_fid['redshift'], slitAngle=par_fid['slitAngles'][j])\n",
    "\n",
    "# ax[1].plot(spaceGrid[2::6],MC_rot[2::6],color='r',ls='--',label='arctan rot (MCMC)')\n",
    "\n",
    "\n",
    "lambda_cen = lambda0*(1.+dataInfo['par_fid']['redshift'])\n",
    "\n",
    "ax[1].axhline(lambda_cen, color='lightgray')\n",
    "ax[0].axhline(lambda_cen, color='lightgray')\n",
    "\n",
    "\n",
    "for j in range(ncol):\n",
    "    #ax[j].set_ylim(786.5,789.0)\n",
    "    ax[j].set_xlim(-3.5,3.5)\n",
    "    ax[j].set_xlabel('position', fontsize=15)\n",
    "    ax[j].tick_params(axis='x', labelsize=16)\n",
    "    ax[j].tick_params(axis='y', labelsize=13)\n",
    "    #ax[j].set_xticks([-6, -4, -2, 0, 2, 4, 6])\n",
    "\n",
    "ax[0].set_ylabel(r'$\\lambda$', fontsize=18)    \n",
    "ax[0].set_title('mock data (tfCube)')\n",
    "ax[1].set_title('model (gauss1D fit)')\n",
    "ax[2].set_title('residual')\n",
    "\n",
    "#ax[1].legend(loc=(2.3,0.75),prop={'size':16})\n",
    "ax[1].legend(loc=\"best\",prop={'size':14})\n",
    "\n",
    "plt.show()"
   ]
  },
  {
   "cell_type": "code",
   "execution_count": null,
   "metadata": {},
   "outputs": [],
   "source": []
  },
  {
   "cell_type": "code",
   "execution_count": null,
   "metadata": {},
   "outputs": [],
   "source": []
  }
 ],
 "metadata": {
  "kernelspec": {
   "display_name": "Python 3",
   "language": "python",
   "name": "python3"
  },
  "language_info": {
   "codemirror_mode": {
    "name": "ipython",
    "version": 3
   },
   "file_extension": ".py",
   "mimetype": "text/x-python",
   "name": "python",
   "nbconvert_exporter": "python",
   "pygments_lexer": "ipython3",
   "version": "3.7.4"
  }
 },
 "nbformat": 4,
 "nbformat_minor": 2
}
