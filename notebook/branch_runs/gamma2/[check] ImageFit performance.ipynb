{
 "cells": [
  {
   "cell_type": "code",
   "execution_count": 1,
   "metadata": {},
   "outputs": [
    {
     "name": "stdout",
     "output_type": "stream",
     "text": [
      "dir_tfCube: /Users/hhg/Research/kinematic_lensing/repo/KLens\n"
     ]
    }
   ],
   "source": [
    "%run /Users/hhg/Research/kinematic_lensing/code/BinnedFit/GaussFit_spec2D.py\n",
    "%run /Users/hhg/Research/kinematic_lensing/code/BinnedFit/ChainTool.py\n",
    "%run /Users/hhg/Research/kinematic_lensing/code/BinnedFit/ImageFit.py\n",
    "\n",
    "\n",
    "\n",
    "%config InlineBackend.figure_format = 'retina'\n",
    "\n",
    "import matplotlib.pyplot as plt\n",
    "import numpy as np\n",
    "\n",
    "sys.path.append(\"/Users/hhg/Research/kinematic_lensing/code/BinnedFit/\")\n",
    "from binnedFit_utilities import *\n",
    "\n",
    "sys.path.append(\"/Users/hhg/Research/kinematic_lensing/repo/kl_measurement/scripts/\")\n",
    "from parameter_class import fit_parameters\n",
    "import matplotlib.pyplot as plt\n",
    "import matplotlib as mpl\n",
    "import numpy as np\n",
    "import emcee\n",
    "import chisq\n",
    "from generate_TFcube import get_TFcube_pars, get_data_TFcube"
   ]
  },
  {
   "cell_type": "code",
   "execution_count": 2,
   "metadata": {},
   "outputs": [
    {
     "name": "stdout",
     "output_type": "stream",
     "text": [
      "eobs_thy: 0.13636363636363635\n",
      "slitAng_major_p: 0.0\n",
      "slitAng_minor_p: 90.0\n"
     ]
    }
   ],
   "source": [
    "sini = 0.5\n",
    "g1 = 0.0\n",
    "g2 = 0.0\n",
    "\n",
    "eint_thy = cal_e_int(sini=sini)\n",
    "eobs_thy = cal_e_obs(e_int=eint_thy, gamma_p=g1)\n",
    "theta_obs = cal_theta_obs(e_int=eint_thy, gamma_x=g2)\n",
    "\n",
    "slitAng_major_p = theta_obs\n",
    "slitAng_minor_p = theta_obs + np.pi/2.\n",
    "\n",
    "bestfit_e_obs = eobs_thy\n",
    "print(\"eobs_thy:\", eobs_thy)\n",
    "print(\"slitAng_major_p:\", slitAng_major_p*180./np.pi)\n",
    "print(\"slitAng_minor_p:\", slitAng_minor_p*180./np.pi)\n"
   ]
  },
  {
   "cell_type": "code",
   "execution_count": null,
   "metadata": {},
   "outputs": [],
   "source": []
  },
  {
   "cell_type": "code",
   "execution_count": 3,
   "metadata": {},
   "outputs": [],
   "source": [
    "update_TF, _ = get_TFcube_pars()\n",
    "\n",
    "update_TF['slitAngles'] = np.array([0.])\n",
    "\n",
    "update_TF['g1'] = g1\n",
    "update_TF['g2'] = g2\n",
    "update_TF['sini'] = sini\n",
    "update_TF['vcirc'] = 200. \n",
    "\n",
    "update_TF['n_knots'] = 25.\n",
    "update_TF['knot_fraction'] = 0.0\n",
    "update_TF['throughput'] = 0.29\n",
    "update_TF['slitWidth'] = 0.05\n",
    "update_TF['psfFWHM'] = 0.5\n",
    "update_TF['pixScale'] = 0.1185# 0.1185  # 0.032 \n",
    "\n",
    "update_TF['redshift'] = 0.2\n",
    "update_TF['Resolution'] = 6000.\n",
    "update_TF['nm_per_pixel'] = 0.033 #0.033 # 0.025\n",
    "update_TF['expTime'] = 3600.0 \n",
    "update_TF['linelist']['flux'][update_TF['linelist']['species'] == 'Halpha'] = 6.0e-24\n",
    "update_TF['lambda_min'] = (1 + update_TF['redshift']) * update_TF['linelist']['lambda'][update_TF['linelist']['species'] == 'Halpha'] - 2\n",
    "update_TF['lambda_max'] = (1 + update_TF['redshift']) * update_TF['linelist']['lambda'][update_TF['linelist']['species'] == 'Halpha'] + 2\n",
    "update_TF['norm'] = 0.\n",
    "update_TF['ngrid'] = 256\n",
    "update_TF['image_size'] = 128"
   ]
  },
  {
   "cell_type": "code",
   "execution_count": null,
   "metadata": {},
   "outputs": [],
   "source": []
  },
  {
   "cell_type": "code",
   "execution_count": 4,
   "metadata": {},
   "outputs": [],
   "source": [
    "def cal_e_obs_bias_err(update_TF):\n",
    "    \n",
    "    TF_pars, meta_parameters = get_TFcube_pars(update_TF)\n",
    "\n",
    "    data, noise, obslambda = get_data_TFcube(TF_pars, meta_parameters, return_lambda=True)\n",
    "\n",
    "    # make data_info from Prangal's data output\n",
    "    data_info = {}\n",
    "    data_info['ModelCube'] = None\n",
    "    data_info['ObsCube'] = None\n",
    "    data_info['image'] = data['image']\n",
    "    data_info['image_variance'] = noise['image']\n",
    "\n",
    "    if len(TF_pars['slitAngles']) == 1:\n",
    "        data_info['data'] = data['spectra'][0]\n",
    "    else:\n",
    "        #data_info['data'] = data['spectra'][0] # this line is to make it compatible with older branches... \n",
    "        data_info['data_major'] = data['spectra'][0]\n",
    "        data_info['data_minor'] = data['spectra'][1]\n",
    "    \n",
    "    data_info['grid_lambda'] = obslambda\n",
    "\n",
    "    extent =  TF_pars['image_size'] * TF_pars['pixScale']\n",
    "    subGridPixScale = extent*1./TF_pars['ngrid']\n",
    "\n",
    "    data_info['grid_pos']    = np.arange(-extent/2., extent/2., subGridPixScale)\n",
    "    data_info['grid_Image']  = np.arange(-extent/2., extent/2., TF_pars['pixScale'])\n",
    "    data_info['par_fid']     = TF_pars\n",
    "    data_info['lambda_emit'] = 656.461 # Halpha [nm]\n",
    "    \n",
    "    # Fitting procress\n",
    "    \n",
    "    ImFit = ImageFit(data_info=data_info)\n",
    "    \n",
    "    \n",
    "    chainImage_info = ImFit.run_MCMC(Nwalker=50, Nsteps=1000)\n",
    "\n",
    "    Chain_Image = ChainTool(chainImage_info, Nburn=30000, Nend=50000)\n",
    "    \n",
    "    e_obs_bestfit, e_obs_err = Chain_Image.par_bestfit(select_par_key=['e_obs'], statistics='max', mode=1)\n",
    "    e_obs_bias = e_obs_bestfit[0] - eobs_thy\n",
    "    e_obs_err = e_obs_err[0]\n",
    "    \n",
    "    return e_obs_bias, e_obs_err"
   ]
  },
  {
   "cell_type": "code",
   "execution_count": null,
   "metadata": {},
   "outputs": [],
   "source": []
  },
  {
   "cell_type": "code",
   "execution_count": 19,
   "metadata": {
    "scrolled": true
   },
   "outputs": [
    {
     "name": "stdout",
     "output_type": "stream",
     "text": [
      "run:0\n",
      "returning:\n",
      "lambda, observation, model, sky (the last three are (npix, npix, nspax) datacubes)\n"
     ]
    },
    {
     "name": "stderr",
     "output_type": "stream",
     "text": [
      "100%|██████████| 1000/1000 [01:00<00:00, 16.45it/s]\n"
     ]
    },
    {
     "name": "stdout",
     "output_type": "stream",
     "text": [
      "Total MCMC time (mins): 1.013922667503357\n",
      "run:1\n",
      "returning:\n",
      "lambda, observation, model, sky (the last three are (npix, npix, nspax) datacubes)\n"
     ]
    },
    {
     "name": "stderr",
     "output_type": "stream",
     "text": [
      "100%|██████████| 1000/1000 [00:58<00:00, 17.04it/s]\n"
     ]
    },
    {
     "name": "stdout",
     "output_type": "stream",
     "text": [
      "Total MCMC time (mins): 0.9791305621465047\n",
      "run:2\n",
      "returning:\n",
      "lambda, observation, model, sky (the last three are (npix, npix, nspax) datacubes)\n"
     ]
    },
    {
     "name": "stderr",
     "output_type": "stream",
     "text": [
      "100%|██████████| 1000/1000 [00:59<00:00, 16.75it/s]\n"
     ]
    },
    {
     "name": "stdout",
     "output_type": "stream",
     "text": [
      "Total MCMC time (mins): 0.9959083159764608\n",
      "run:3\n",
      "returning:\n",
      "lambda, observation, model, sky (the last three are (npix, npix, nspax) datacubes)\n"
     ]
    },
    {
     "name": "stderr",
     "output_type": "stream",
     "text": [
      "100%|██████████| 1000/1000 [00:56<00:00, 17.68it/s]\n"
     ]
    },
    {
     "name": "stdout",
     "output_type": "stream",
     "text": [
      "Total MCMC time (mins): 0.9433868130048116\n",
      "run:4\n",
      "returning:\n",
      "lambda, observation, model, sky (the last three are (npix, npix, nspax) datacubes)\n"
     ]
    },
    {
     "name": "stderr",
     "output_type": "stream",
     "text": [
      "100%|██████████| 1000/1000 [00:54<00:00, 18.39it/s]\n"
     ]
    },
    {
     "name": "stdout",
     "output_type": "stream",
     "text": [
      "Total MCMC time (mins): 0.9073604663213094\n",
      "run:5\n",
      "returning:\n",
      "lambda, observation, model, sky (the last three are (npix, npix, nspax) datacubes)\n"
     ]
    },
    {
     "name": "stderr",
     "output_type": "stream",
     "text": [
      "100%|██████████| 1000/1000 [00:54<00:00, 18.37it/s]\n"
     ]
    },
    {
     "name": "stdout",
     "output_type": "stream",
     "text": [
      "Total MCMC time (mins): 0.9083433826764424\n",
      "run:6\n",
      "returning:\n",
      "lambda, observation, model, sky (the last three are (npix, npix, nspax) datacubes)\n"
     ]
    },
    {
     "name": "stderr",
     "output_type": "stream",
     "text": [
      "100%|██████████| 1000/1000 [00:53<00:00, 18.53it/s]\n"
     ]
    },
    {
     "name": "stdout",
     "output_type": "stream",
     "text": [
      "Total MCMC time (mins): 0.9001226226488749\n",
      "run:7\n",
      "returning:\n",
      "lambda, observation, model, sky (the last three are (npix, npix, nspax) datacubes)\n"
     ]
    },
    {
     "name": "stderr",
     "output_type": "stream",
     "text": [
      "100%|██████████| 1000/1000 [00:55<00:00, 18.09it/s]\n"
     ]
    },
    {
     "name": "stdout",
     "output_type": "stream",
     "text": [
      "Total MCMC time (mins): 0.9222674528757732\n",
      "run:8\n",
      "returning:\n",
      "lambda, observation, model, sky (the last three are (npix, npix, nspax) datacubes)\n"
     ]
    },
    {
     "name": "stderr",
     "output_type": "stream",
     "text": [
      "100%|██████████| 1000/1000 [00:59<00:00, 16.79it/s]\n"
     ]
    },
    {
     "name": "stdout",
     "output_type": "stream",
     "text": [
      "Total MCMC time (mins): 0.9938862800598145\n",
      "run:9\n",
      "returning:\n",
      "lambda, observation, model, sky (the last three are (npix, npix, nspax) datacubes)\n"
     ]
    },
    {
     "name": "stderr",
     "output_type": "stream",
     "text": [
      "100%|██████████| 1000/1000 [00:59<00:00, 16.80it/s]\n"
     ]
    },
    {
     "name": "stdout",
     "output_type": "stream",
     "text": [
      "Total MCMC time (mins): 0.9928473989168803\n",
      "run:10\n",
      "returning:\n",
      "lambda, observation, model, sky (the last three are (npix, npix, nspax) datacubes)\n"
     ]
    },
    {
     "name": "stderr",
     "output_type": "stream",
     "text": [
      "100%|██████████| 1000/1000 [01:00<00:00, 16.52it/s]\n"
     ]
    },
    {
     "name": "stdout",
     "output_type": "stream",
     "text": [
      "Total MCMC time (mins): 1.0095188697179158\n",
      "run:11\n",
      "returning:\n",
      "lambda, observation, model, sky (the last three are (npix, npix, nspax) datacubes)\n"
     ]
    },
    {
     "name": "stderr",
     "output_type": "stream",
     "text": [
      "100%|██████████| 1000/1000 [00:56<00:00, 17.69it/s]\n"
     ]
    },
    {
     "name": "stdout",
     "output_type": "stream",
     "text": [
      "Total MCMC time (mins): 0.9428348342577616\n",
      "run:12\n",
      "returning:\n",
      "lambda, observation, model, sky (the last three are (npix, npix, nspax) datacubes)\n"
     ]
    },
    {
     "name": "stderr",
     "output_type": "stream",
     "text": [
      "100%|██████████| 1000/1000 [00:56<00:00, 17.72it/s]\n"
     ]
    },
    {
     "name": "stdout",
     "output_type": "stream",
     "text": [
      "Total MCMC time (mins): 0.9415927529335022\n",
      "run:13\n",
      "returning:\n",
      "lambda, observation, model, sky (the last three are (npix, npix, nspax) datacubes)\n"
     ]
    },
    {
     "name": "stderr",
     "output_type": "stream",
     "text": [
      "100%|██████████| 1000/1000 [00:54<00:00, 18.45it/s]\n"
     ]
    },
    {
     "name": "stdout",
     "output_type": "stream",
     "text": [
      "Total MCMC time (mins): 0.9043601155281067\n",
      "run:14\n",
      "returning:\n",
      "lambda, observation, model, sky (the last three are (npix, npix, nspax) datacubes)\n"
     ]
    },
    {
     "name": "stderr",
     "output_type": "stream",
     "text": [
      "100%|██████████| 1000/1000 [00:56<00:00, 17.75it/s]\n"
     ]
    },
    {
     "name": "stdout",
     "output_type": "stream",
     "text": [
      "Total MCMC time (mins): 0.9400547663370769\n",
      "run:15\n",
      "returning:\n",
      "lambda, observation, model, sky (the last three are (npix, npix, nspax) datacubes)\n"
     ]
    },
    {
     "name": "stderr",
     "output_type": "stream",
     "text": [
      "100%|██████████| 1000/1000 [01:01<00:00, 16.35it/s]\n"
     ]
    },
    {
     "name": "stdout",
     "output_type": "stream",
     "text": [
      "Total MCMC time (mins): 1.0203861474990845\n",
      "run:16\n",
      "returning:\n",
      "lambda, observation, model, sky (the last three are (npix, npix, nspax) datacubes)\n"
     ]
    },
    {
     "name": "stderr",
     "output_type": "stream",
     "text": [
      "100%|██████████| 1000/1000 [01:03<00:00, 15.71it/s]\n"
     ]
    },
    {
     "name": "stdout",
     "output_type": "stream",
     "text": [
      "Total MCMC time (mins): 1.0622266292572022\n",
      "run:17\n",
      "returning:\n",
      "lambda, observation, model, sky (the last three are (npix, npix, nspax) datacubes)\n"
     ]
    },
    {
     "name": "stderr",
     "output_type": "stream",
     "text": [
      "100%|██████████| 1000/1000 [00:59<00:00, 16.79it/s]\n"
     ]
    },
    {
     "name": "stdout",
     "output_type": "stream",
     "text": [
      "Total MCMC time (mins): 0.9934990286827088\n",
      "run:18\n",
      "returning:\n",
      "lambda, observation, model, sky (the last three are (npix, npix, nspax) datacubes)\n"
     ]
    },
    {
     "name": "stderr",
     "output_type": "stream",
     "text": [
      "100%|██████████| 1000/1000 [00:54<00:00, 18.45it/s]\n"
     ]
    },
    {
     "name": "stdout",
     "output_type": "stream",
     "text": [
      "Total MCMC time (mins): 0.904294216632843\n",
      "run:19\n",
      "returning:\n",
      "lambda, observation, model, sky (the last three are (npix, npix, nspax) datacubes)\n"
     ]
    },
    {
     "name": "stderr",
     "output_type": "stream",
     "text": [
      "100%|██████████| 1000/1000 [00:54<00:00, 18.39it/s]\n"
     ]
    },
    {
     "name": "stdout",
     "output_type": "stream",
     "text": [
      "Total MCMC time (mins): 0.9071556647618612\n",
      "run:20\n",
      "returning:\n",
      "lambda, observation, model, sky (the last three are (npix, npix, nspax) datacubes)\n"
     ]
    },
    {
     "name": "stderr",
     "output_type": "stream",
     "text": [
      "100%|██████████| 1000/1000 [01:03<00:00, 15.70it/s]\n"
     ]
    },
    {
     "name": "stdout",
     "output_type": "stream",
     "text": [
      "Total MCMC time (mins): 1.0627344806989034\n",
      "run:21\n",
      "returning:\n",
      "lambda, observation, model, sky (the last three are (npix, npix, nspax) datacubes)\n"
     ]
    },
    {
     "name": "stderr",
     "output_type": "stream",
     "text": [
      "100%|██████████| 1000/1000 [00:55<00:00, 17.86it/s]\n"
     ]
    },
    {
     "name": "stdout",
     "output_type": "stream",
     "text": [
      "Total MCMC time (mins): 0.9341280500094096\n",
      "run:22\n",
      "returning:\n",
      "lambda, observation, model, sky (the last three are (npix, npix, nspax) datacubes)\n"
     ]
    },
    {
     "name": "stderr",
     "output_type": "stream",
     "text": [
      "100%|██████████| 1000/1000 [00:57<00:00, 17.34it/s]\n"
     ]
    },
    {
     "name": "stdout",
     "output_type": "stream",
     "text": [
      "Total MCMC time (mins): 0.9621190468470255\n",
      "run:23\n",
      "returning:\n",
      "lambda, observation, model, sky (the last three are (npix, npix, nspax) datacubes)\n"
     ]
    },
    {
     "name": "stderr",
     "output_type": "stream",
     "text": [
      "100%|██████████| 1000/1000 [00:57<00:00, 17.46it/s]\n"
     ]
    },
    {
     "name": "stdout",
     "output_type": "stream",
     "text": [
      "Total MCMC time (mins): 0.955327566464742\n",
      "run:24\n",
      "returning:\n",
      "lambda, observation, model, sky (the last three are (npix, npix, nspax) datacubes)\n"
     ]
    },
    {
     "name": "stderr",
     "output_type": "stream",
     "text": [
      "100%|██████████| 1000/1000 [00:58<00:00, 17.23it/s]\n"
     ]
    },
    {
     "name": "stdout",
     "output_type": "stream",
     "text": [
      "Total MCMC time (mins): 0.9684495488802592\n",
      "run:25\n",
      "returning:\n",
      "lambda, observation, model, sky (the last three are (npix, npix, nspax) datacubes)\n"
     ]
    },
    {
     "name": "stderr",
     "output_type": "stream",
     "text": [
      "100%|██████████| 1000/1000 [00:57<00:00, 17.26it/s]\n"
     ]
    },
    {
     "name": "stdout",
     "output_type": "stream",
     "text": [
      "Total MCMC time (mins): 0.9663222153981527\n",
      "run:26\n",
      "returning:\n",
      "lambda, observation, model, sky (the last three are (npix, npix, nspax) datacubes)\n"
     ]
    },
    {
     "name": "stderr",
     "output_type": "stream",
     "text": [
      "100%|██████████| 1000/1000 [00:58<00:00, 17.21it/s]\n"
     ]
    },
    {
     "name": "stdout",
     "output_type": "stream",
     "text": [
      "Total MCMC time (mins): 0.9696183681488038\n",
      "run:27\n",
      "returning:\n",
      "lambda, observation, model, sky (the last three are (npix, npix, nspax) datacubes)\n"
     ]
    },
    {
     "name": "stderr",
     "output_type": "stream",
     "text": [
      "100%|██████████| 1000/1000 [00:58<00:00, 17.24it/s]\n"
     ]
    },
    {
     "name": "stdout",
     "output_type": "stream",
     "text": [
      "Total MCMC time (mins): 0.967927881081899\n",
      "run:28\n",
      "returning:\n",
      "lambda, observation, model, sky (the last three are (npix, npix, nspax) datacubes)\n"
     ]
    },
    {
     "name": "stderr",
     "output_type": "stream",
     "text": [
      "100%|██████████| 1000/1000 [00:57<00:00, 17.44it/s]\n"
     ]
    },
    {
     "name": "stdout",
     "output_type": "stream",
     "text": [
      "Total MCMC time (mins): 0.9566446185112\n",
      "run:29\n",
      "returning:\n",
      "lambda, observation, model, sky (the last three are (npix, npix, nspax) datacubes)\n"
     ]
    },
    {
     "name": "stderr",
     "output_type": "stream",
     "text": [
      "100%|██████████| 1000/1000 [00:59<00:00, 16.68it/s]\n"
     ]
    },
    {
     "name": "stdout",
     "output_type": "stream",
     "text": [
      "Total MCMC time (mins): 1.000129552682241\n",
      "run:30\n",
      "returning:\n",
      "lambda, observation, model, sky (the last three are (npix, npix, nspax) datacubes)\n"
     ]
    },
    {
     "name": "stderr",
     "output_type": "stream",
     "text": [
      "100%|██████████| 1000/1000 [01:05<00:00, 15.22it/s]\n"
     ]
    },
    {
     "name": "stdout",
     "output_type": "stream",
     "text": [
      "Total MCMC time (mins): 1.0958434700965882\n",
      "run:31\n",
      "returning:\n",
      "lambda, observation, model, sky (the last three are (npix, npix, nspax) datacubes)\n"
     ]
    },
    {
     "name": "stderr",
     "output_type": "stream",
     "text": [
      "100%|██████████| 1000/1000 [01:02<00:00, 16.10it/s]\n"
     ]
    },
    {
     "name": "stdout",
     "output_type": "stream",
     "text": [
      "Total MCMC time (mins): 1.0359191338221232\n",
      "run:32\n",
      "returning:\n",
      "lambda, observation, model, sky (the last three are (npix, npix, nspax) datacubes)\n"
     ]
    },
    {
     "name": "stderr",
     "output_type": "stream",
     "text": [
      "100%|██████████| 1000/1000 [00:57<00:00, 17.27it/s]\n"
     ]
    },
    {
     "name": "stdout",
     "output_type": "stream",
     "text": [
      "Total MCMC time (mins): 0.9663399974505107\n",
      "run:33\n",
      "returning:\n",
      "lambda, observation, model, sky (the last three are (npix, npix, nspax) datacubes)\n"
     ]
    },
    {
     "name": "stderr",
     "output_type": "stream",
     "text": [
      "100%|██████████| 1000/1000 [01:02<00:00, 15.91it/s]\n"
     ]
    },
    {
     "name": "stdout",
     "output_type": "stream",
     "text": [
      "Total MCMC time (mins): 1.048367965221405\n",
      "run:34\n",
      "returning:\n",
      "lambda, observation, model, sky (the last three are (npix, npix, nspax) datacubes)\n"
     ]
    },
    {
     "name": "stderr",
     "output_type": "stream",
     "text": [
      "100%|██████████| 1000/1000 [00:57<00:00, 17.51it/s]\n"
     ]
    },
    {
     "name": "stdout",
     "output_type": "stream",
     "text": [
      "Total MCMC time (mins): 0.9525349338849386\n",
      "run:35\n",
      "returning:\n",
      "lambda, observation, model, sky (the last three are (npix, npix, nspax) datacubes)\n"
     ]
    },
    {
     "name": "stderr",
     "output_type": "stream",
     "text": [
      "100%|██████████| 1000/1000 [00:57<00:00, 17.46it/s]\n"
     ]
    },
    {
     "name": "stdout",
     "output_type": "stream",
     "text": [
      "Total MCMC time (mins): 0.9554089506467184\n",
      "run:36\n",
      "returning:\n",
      "lambda, observation, model, sky (the last three are (npix, npix, nspax) datacubes)\n"
     ]
    },
    {
     "name": "stderr",
     "output_type": "stream",
     "text": [
      "100%|██████████| 1000/1000 [00:58<00:00, 17.23it/s]\n"
     ]
    },
    {
     "name": "stdout",
     "output_type": "stream",
     "text": [
      "Total MCMC time (mins): 0.967987600962321\n",
      "run:37\n",
      "returning:\n",
      "lambda, observation, model, sky (the last three are (npix, npix, nspax) datacubes)\n"
     ]
    },
    {
     "name": "stderr",
     "output_type": "stream",
     "text": [
      "100%|██████████| 1000/1000 [00:59<00:00, 16.80it/s]\n"
     ]
    },
    {
     "name": "stdout",
     "output_type": "stream",
     "text": [
      "Total MCMC time (mins): 0.9930305202802022\n",
      "run:38\n",
      "returning:\n",
      "lambda, observation, model, sky (the last three are (npix, npix, nspax) datacubes)\n"
     ]
    },
    {
     "name": "stderr",
     "output_type": "stream",
     "text": [
      "100%|██████████| 1000/1000 [00:58<00:00, 17.11it/s]\n"
     ]
    },
    {
     "name": "stdout",
     "output_type": "stream",
     "text": [
      "Total MCMC time (mins): 0.9753568013509114\n",
      "run:39\n",
      "returning:\n",
      "lambda, observation, model, sky (the last three are (npix, npix, nspax) datacubes)\n"
     ]
    },
    {
     "name": "stderr",
     "output_type": "stream",
     "text": [
      "100%|██████████| 1000/1000 [00:58<00:00, 17.02it/s]\n"
     ]
    },
    {
     "name": "stdout",
     "output_type": "stream",
     "text": [
      "Total MCMC time (mins): 0.980179230372111\n",
      "run:40\n",
      "returning:\n",
      "lambda, observation, model, sky (the last three are (npix, npix, nspax) datacubes)\n"
     ]
    },
    {
     "name": "stderr",
     "output_type": "stream",
     "text": [
      "100%|██████████| 1000/1000 [00:58<00:00, 17.06it/s]\n"
     ]
    },
    {
     "name": "stdout",
     "output_type": "stream",
     "text": [
      "Total MCMC time (mins): 0.9782104810078939\n",
      "run:41\n",
      "returning:\n",
      "lambda, observation, model, sky (the last three are (npix, npix, nspax) datacubes)\n"
     ]
    },
    {
     "name": "stderr",
     "output_type": "stream",
     "text": [
      "100%|██████████| 1000/1000 [00:58<00:00, 17.14it/s]\n"
     ]
    },
    {
     "name": "stdout",
     "output_type": "stream",
     "text": [
      "Total MCMC time (mins): 0.9731765309969584\n",
      "run:42\n",
      "returning:\n",
      "lambda, observation, model, sky (the last three are (npix, npix, nspax) datacubes)\n"
     ]
    },
    {
     "name": "stderr",
     "output_type": "stream",
     "text": [
      "100%|██████████| 1000/1000 [01:02<00:00, 16.04it/s]\n"
     ]
    },
    {
     "name": "stdout",
     "output_type": "stream",
     "text": [
      "Total MCMC time (mins): 1.0399240533510843\n",
      "run:43\n",
      "returning:\n",
      "lambda, observation, model, sky (the last three are (npix, npix, nspax) datacubes)\n"
     ]
    },
    {
     "name": "stderr",
     "output_type": "stream",
     "text": [
      "100%|██████████| 1000/1000 [00:58<00:00, 17.23it/s]\n"
     ]
    },
    {
     "name": "stdout",
     "output_type": "stream",
     "text": [
      "Total MCMC time (mins): 0.9683681289354961\n",
      "run:44\n",
      "returning:\n",
      "lambda, observation, model, sky (the last three are (npix, npix, nspax) datacubes)\n"
     ]
    },
    {
     "name": "stderr",
     "output_type": "stream",
     "text": [
      "100%|██████████| 1000/1000 [00:58<00:00, 17.19it/s]\n"
     ]
    },
    {
     "name": "stdout",
     "output_type": "stream",
     "text": [
      "Total MCMC time (mins): 0.9702274163564046\n",
      "run:45\n",
      "returning:\n",
      "lambda, observation, model, sky (the last three are (npix, npix, nspax) datacubes)\n"
     ]
    },
    {
     "name": "stderr",
     "output_type": "stream",
     "text": [
      "100%|██████████| 1000/1000 [00:54<00:00, 18.35it/s]\n"
     ]
    },
    {
     "name": "stdout",
     "output_type": "stream",
     "text": [
      "Total MCMC time (mins): 0.9092643857002258\n",
      "run:46\n",
      "returning:\n",
      "lambda, observation, model, sky (the last three are (npix, npix, nspax) datacubes)\n"
     ]
    },
    {
     "name": "stderr",
     "output_type": "stream",
     "text": [
      "100%|██████████| 1000/1000 [00:56<00:00, 17.78it/s]\n"
     ]
    },
    {
     "name": "stdout",
     "output_type": "stream",
     "text": [
      "Total MCMC time (mins): 0.9381372173627217\n",
      "run:47\n",
      "returning:\n",
      "lambda, observation, model, sky (the last three are (npix, npix, nspax) datacubes)\n"
     ]
    },
    {
     "name": "stderr",
     "output_type": "stream",
     "text": [
      "100%|██████████| 1000/1000 [00:57<00:00, 17.44it/s]\n"
     ]
    },
    {
     "name": "stdout",
     "output_type": "stream",
     "text": [
      "Total MCMC time (mins): 0.9567606210708618\n",
      "run:48\n",
      "returning:\n",
      "lambda, observation, model, sky (the last three are (npix, npix, nspax) datacubes)\n"
     ]
    },
    {
     "name": "stderr",
     "output_type": "stream",
     "text": [
      "100%|██████████| 1000/1000 [00:55<00:00, 18.12it/s]\n"
     ]
    },
    {
     "name": "stdout",
     "output_type": "stream",
     "text": [
      "Total MCMC time (mins): 0.9208352963129679\n",
      "run:49\n",
      "returning:\n",
      "lambda, observation, model, sky (the last three are (npix, npix, nspax) datacubes)\n"
     ]
    },
    {
     "name": "stderr",
     "output_type": "stream",
     "text": [
      "100%|██████████| 1000/1000 [01:00<00:00, 16.43it/s]"
     ]
    },
    {
     "name": "stdout",
     "output_type": "stream",
     "text": [
      "Total MCMC time (mins): 1.0156642516454062\n"
     ]
    },
    {
     "name": "stderr",
     "output_type": "stream",
     "text": [
      "\n"
     ]
    }
   ],
   "source": [
    "list_e_obs_bias = []\n",
    "list_e_obs_err = []\n",
    "\n",
    "for j in range(50):\n",
    "    print(f\"run:{j}\")\n",
    "\n",
    "    e_obs_bias, e_obs_err = cal_e_obs_bias_err(update_TF)\n",
    "    \n",
    "    list_e_obs_bias.append(e_obs_bias)\n",
    "    list_e_obs_err.append(e_obs_err)"
   ]
  },
  {
   "cell_type": "code",
   "execution_count": null,
   "metadata": {},
   "outputs": [],
   "source": []
  },
  {
   "cell_type": "code",
   "execution_count": 20,
   "metadata": {},
   "outputs": [],
   "source": [
    "e_obs_bias_sigma = list(np.array(list_e_obs_bias)/np.array(list_e_obs_err))"
   ]
  },
  {
   "cell_type": "code",
   "execution_count": 21,
   "metadata": {},
   "outputs": [],
   "source": [
    "filename_pkl = \"e_obs_g1_0.00_g2_0.00.pkl\"\n",
    "stat_info=load_pickle(filename_pkl)"
   ]
  },
  {
   "cell_type": "code",
   "execution_count": 22,
   "metadata": {},
   "outputs": [
    {
     "data": {
      "text/plain": [
       "300"
      ]
     },
     "execution_count": 22,
     "metadata": {},
     "output_type": "execute_result"
    }
   ],
   "source": [
    "len(stat_info['e_obs_bias_sigma'])"
   ]
  },
  {
   "cell_type": "code",
   "execution_count": 23,
   "metadata": {},
   "outputs": [],
   "source": [
    "stat_info['e_obs_bias_sigma'] = stat_info['e_obs_bias_sigma'] + e_obs_bias_sigma\n",
    "stat_info['e_obs_err'] = stat_info['e_obs_err'] + list_e_obs_err\n",
    "save_pickle(filename_pkl, stat_info)"
   ]
  },
  {
   "cell_type": "code",
   "execution_count": 24,
   "metadata": {},
   "outputs": [
    {
     "data": {
      "text/plain": [
       "350"
      ]
     },
     "execution_count": 24,
     "metadata": {},
     "output_type": "execute_result"
    }
   ],
   "source": [
    "len(stat_info['e_obs_bias_sigma'])"
   ]
  },
  {
   "cell_type": "code",
   "execution_count": 25,
   "metadata": {},
   "outputs": [
    {
     "data": {
      "text/plain": [
       "Text(0.5, 0, '$e_{obs}\\\\ 1\\\\sigma\\\\ error$')"
      ]
     },
     "execution_count": 25,
     "metadata": {},
     "output_type": "execute_result"
    },
    {
     "data": {
      "image/png": "[encoded data removed]",
      "text/plain": [
       "<Figure size 864x360 with 2 Axes>"
      ]
     },
     "metadata": {
      "image/png": {
       "height": 365,
       "width": 726
      },
      "needs_background": "light"
     },
     "output_type": "display_data"
    }
   ],
   "source": [
    "fig, ax = plt.subplots(1, 2, figsize=(12,5))\n",
    "plt.rc('font',size=16)\n",
    "\n",
    "\n",
    "N1, bin1, _ = ax[0].hist(stat_info['e_obs_bias_sigma'], bins=18)\n",
    "N2, bin2, _ = ax[1].hist(stat_info['e_obs_err']       , bins=18)\n",
    "\n",
    "ax[0].axvline(x=0, color='k')\n",
    "\n",
    "fig.suptitle(f'sini={sini}, g1={g1}, g2={g2}, '+'$e_{obs, thy}$='+f'{eobs_thy:.3f}', fontsize=16)\n",
    "\n",
    "ax[0].set_xlabel('$e_{obs}\\ bias\\ (in\\ unit\\ of\\ \\sigma)$', fontsize=16)\n",
    "ax[1].set_xlabel('$e_{obs}\\ 1\\sigma\\ error$', fontsize=16)"
   ]
  },
  {
   "cell_type": "code",
   "execution_count": null,
   "metadata": {},
   "outputs": [],
   "source": []
  },
  {
   "cell_type": "code",
   "execution_count": null,
   "metadata": {},
   "outputs": [],
   "source": []
  },
  {
   "cell_type": "markdown",
   "metadata": {},
   "source": [
    "# === Past record ==="
   ]
  },
  {
   "cell_type": "markdown",
   "metadata": {},
   "source": [
    "## g1=0.05, g2=0.05"
   ]
  },
  {
   "cell_type": "code",
   "execution_count": 32,
   "metadata": {},
   "outputs": [],
   "source": [
    "e_obs_bias_sigma = list(np.array([ 1.12553186,  0.27727116, -2.28191464,  0.7787235 ,  0.84853303,\n",
    "       -1.82542933, -1.45818537, -0.35525304, -0.4638627 ,  1.4674877 ,\n",
    "        1.31824032, -0.8815605 ,  1.41228661,  0.32014609, -0.29045892,\n",
    "        0.75812988,  0.35940089, -1.45098446,  0.00636476, -0.13112092,\n",
    "        0.24499874, -1.42012782,  0.22539339, -2.21139298,  1.30445068,\n",
    "       -0.13224568,  0.70964454, -0.28359429,  0.23239265,  0.91656672]))"
   ]
  },
  {
   "cell_type": "code",
   "execution_count": 34,
   "metadata": {},
   "outputs": [],
   "source": [
    "e_obs_err=list(np.array([0.03015715, 0.02938704, 0.02957445, 0.02976847, 0.03044686,\n",
    "       0.03072178, 0.02915471, 0.02917169, 0.03164596, 0.03149022,\n",
    "       0.0297907 , 0.03079895, 0.02967233, 0.03106162, 0.02993919,\n",
    "       0.02975519, 0.0303027 , 0.03018077, 0.03080472, 0.02985553,\n",
    "       0.03032409, 0.03033063, 0.03041959, 0.03023466, 0.02998868,\n",
    "       0.03094069, 0.02986662, 0.03071534, 0.03104558, 0.03039364]))"
   ]
  },
  {
   "cell_type": "code",
   "execution_count": 35,
   "metadata": {},
   "outputs": [],
   "source": []
  },
  {
   "cell_type": "code",
   "execution_count": 20,
   "metadata": {},
   "outputs": [
    {
     "data": {
      "text/plain": [
       "Text(0.5, 0, '$e_{obs}\\\\ 1\\\\sigma\\\\ error$')"
      ]
     },
     "execution_count": 20,
     "metadata": {},
     "output_type": "execute_result"
    },
    {
     "data": {
      "image/png": "[encoded data removed]",
      "text/plain": [
       "<Figure size 864x360 with 2 Axes>"
      ]
     },
     "metadata": {
      "image/png": {
       "height": 365,
       "width": 701
      },
      "needs_background": "light"
     },
     "output_type": "display_data"
    }
   ],
   "source": [
    "fig, ax = plt.subplots(1, 2, figsize=(12,5))\n",
    "plt.rc('font',size=16)\n",
    "\n",
    "\n",
    "N1, bin1, _ = ax[0].hist(e_obs_bias_sigma, bins=9)\n",
    "N2, bin2, _ = ax[1].hist(list_e_obs_err, bins=9)\n",
    "\n",
    "\n",
    "fig.suptitle(f'sini={sini}, g1={g1}, g2={g2}, '+'$e_{obs, thy}$='+f'{eobs_thy:.3f}', fontsize=16)\n",
    "\n",
    "ax[0].set_xlabel('$e_{obs}\\ bias\\ (in\\ unit\\ of\\ \\sigma)$', fontsize=16)\n",
    "ax[1].set_xlabel('$e_{obs}\\ 1\\sigma\\ error$', fontsize=16)"
   ]
  },
  {
   "cell_type": "code",
   "execution_count": null,
   "metadata": {},
   "outputs": [],
   "source": []
  },
  {
   "cell_type": "markdown",
   "metadata": {},
   "source": [
    "## g2=0.05"
   ]
  },
  {
   "cell_type": "code",
   "execution_count": 39,
   "metadata": {},
   "outputs": [],
   "source": [
    "e_obs_bias_sigma = list(np.array([ 2.71980051, -0.1777376 , -0.14259864,  0.09876826, -0.72310509,\n",
    "        0.74570723, -1.93155716, -0.52673853,  1.4419161 , -0.06178189,\n",
    "        1.19899798,  0.28811279, -0.69276285, -1.11216263,  1.96424662,\n",
    "        0.95804948,  0.07825196,  1.22610294,  0.16012668, -0.59497338,\n",
    "       -0.5425963 ,  0.60230743,  0.41852405,  0.3543053 , -0.69765072,\n",
    "       -0.26477076,  0.04763824, -0.39423799, -0.68230401,  1.5476703 ]))"
   ]
  },
  {
   "cell_type": "code",
   "execution_count": 40,
   "metadata": {},
   "outputs": [],
   "source": [
    "e_obs_err = list(np.array([0.0312613 , 0.03168819, 0.03042078, 0.03122622, 0.03087097,\n",
    "       0.03040244, 0.03017666, 0.03003125, 0.03057317, 0.03021217,\n",
    "       0.03101893, 0.03080259, 0.03099477, 0.02975695, 0.03024801,\n",
    "       0.0301357 , 0.03176475, 0.03033399, 0.03053027, 0.03098629,\n",
    "       0.02979077, 0.03016124, 0.03117183, 0.0302662 , 0.02913844,\n",
    "       0.03068681, 0.03079671, 0.03045253, 0.0299735 , 0.03061799]))"
   ]
  },
  {
   "cell_type": "code",
   "execution_count": 41,
   "metadata": {},
   "outputs": [],
   "source": [
    "stat_info={}\n",
    "stat_info['e_obs_bias_sigma'] = e_obs_bias_sigma\n",
    "stat_info['e_obs_err'] = e_obs_err\n",
    "save_pickle(\"e_obs_g1_0.00_g2_0.05.pkl\", stat_info)"
   ]
  },
  {
   "cell_type": "code",
   "execution_count": 10,
   "metadata": {},
   "outputs": [
    {
     "data": {
      "text/plain": [
       "Text(0.5, 0, '$e_{obs}\\\\ 1\\\\sigma\\\\ error$')"
      ]
     },
     "execution_count": 10,
     "metadata": {},
     "output_type": "execute_result"
    },
    {
     "data": {
      "image/png": "[encoded data removed]",
      "text/plain": [
       "<Figure size 864x360 with 2 Axes>"
      ]
     },
     "metadata": {
      "image/png": {
       "height": 365,
       "width": 701
      },
      "needs_background": "light"
     },
     "output_type": "display_data"
    }
   ],
   "source": [
    "fig, ax = plt.subplots(1, 2, figsize=(12,5))\n",
    "plt.rc('font',size=16)\n",
    "\n",
    "\n",
    "N1, bin1, _ = ax[0].hist(e_obs_bias_sigma, bins=10)\n",
    "N2, bin2, _ = ax[1].hist(list_e_obs_err, bins=10)\n",
    "\n",
    "\n",
    "fig.suptitle(f'sini={sini}, g1={g1}, g2={g2}, '+'$e_{obs, thy}$='+f'{eobs_thy:.3f}', fontsize=16)\n",
    "\n",
    "ax[0].set_xlabel('$e_{obs}\\ bias\\ (in\\ unit\\ of\\ \\sigma)$', fontsize=16)\n",
    "ax[1].set_xlabel('$e_{obs}\\ 1\\sigma\\ error$', fontsize=16)"
   ]
  },
  {
   "cell_type": "code",
   "execution_count": null,
   "metadata": {},
   "outputs": [],
   "source": []
  },
  {
   "cell_type": "markdown",
   "metadata": {},
   "source": [
    "## g1=0.0, g2=0.0"
   ]
  },
  {
   "cell_type": "code",
   "execution_count": 45,
   "metadata": {},
   "outputs": [],
   "source": [
    "e_obs_bias_sigma = list(np.array([ 0.03691551,  1.48116244, -0.35247505,  0.8628927 , -0.48546616,\n",
    "       -1.63284493,  2.24816164, -0.30194216, -0.8813615 , -0.70573018,\n",
    "       -0.63604288,  0.53998361, -1.33362996,  0.16940828,  2.63602456,\n",
    "        0.16276981, -0.46789633,  2.21015592,  0.5010352 ,  1.15421176,\n",
    "        1.19522846, -0.43488474, -0.65922723,  0.78086878,  0.07762173,\n",
    "        0.19833113, -0.1236604 , -0.78189195, -0.26171655,  1.34103114]))\n",
    "\n",
    "\n",
    "e_obs_err=list(np.array([0.03136669, 0.02874884, 0.03041984, 0.02970299, 0.03032297,\n",
    "       0.02999427, 0.03013054, 0.03070758, 0.03108642, 0.03113482,\n",
    "       0.02997666, 0.03163305, 0.02930114, 0.02998303, 0.02984065,\n",
    "       0.03072571, 0.02973582, 0.03026143, 0.02976374, 0.03102432,\n",
    "       0.02967741, 0.02930295, 0.02980852, 0.03066868, 0.03081245,\n",
    "       0.03055537, 0.02995686, 0.02964227, 0.02963216, 0.02986836]))"
   ]
  },
  {
   "cell_type": "code",
   "execution_count": 46,
   "metadata": {},
   "outputs": [],
   "source": [
    "stat_info={}\n",
    "stat_info['e_obs_bias_sigma'] = e_obs_bias_sigma\n",
    "stat_info['e_obs_err'] = e_obs_err\n",
    "save_pickle(\"e_obs_g1_0.00_g2_0.00.pkl\", stat_info)"
   ]
  },
  {
   "cell_type": "code",
   "execution_count": 26,
   "metadata": {},
   "outputs": [
    {
     "data": {
      "text/plain": [
       "Text(0.5, 0, '$e_{obs}\\\\ 1\\\\sigma\\\\ error$')"
      ]
     },
     "execution_count": 26,
     "metadata": {},
     "output_type": "execute_result"
    },
    {
     "data": {
      "image/png": "[encoded data removed]",
      "text/plain": [
       "<Figure size 864x360 with 2 Axes>"
      ]
     },
     "metadata": {
      "image/png": {
       "height": 365,
       "width": 701
      },
      "needs_background": "light"
     },
     "output_type": "display_data"
    }
   ],
   "source": [
    "fig, ax = plt.subplots(1, 2, figsize=(12,5))\n",
    "plt.rc('font',size=16)\n",
    "\n",
    "\n",
    "N1, bin1, _ = ax[0].hist(e_obs_bias_sigma, bins=8)\n",
    "N2, bin2, _ = ax[1].hist(list_e_obs_err, bins=8)\n",
    "\n",
    "\n",
    "fig.suptitle(f'sini={sini}, g1={g1}, g2={g2}, '+'$e_{obs, thy}$='+f'{eobs_thy:.3f}', fontsize=16)\n",
    "\n",
    "ax[0].set_xlabel('$e_{obs}\\ bias\\ (in\\ unit\\ of\\ \\sigma)$', fontsize=16)\n",
    "ax[1].set_xlabel('$e_{obs}\\ 1\\sigma\\ error$', fontsize=16)"
   ]
  },
  {
   "cell_type": "code",
   "execution_count": null,
   "metadata": {},
   "outputs": [],
   "source": []
  },
  {
   "cell_type": "code",
   "execution_count": null,
   "metadata": {},
   "outputs": [],
   "source": []
  },
  {
   "cell_type": "code",
   "execution_count": null,
   "metadata": {},
   "outputs": [],
   "source": []
  },
  {
   "cell_type": "code",
   "execution_count": null,
   "metadata": {},
   "outputs": [],
   "source": []
  },
  {
   "cell_type": "code",
   "execution_count": null,
   "metadata": {},
   "outputs": [],
   "source": []
  },
  {
   "cell_type": "code",
   "execution_count": null,
   "metadata": {},
   "outputs": [],
   "source": []
  }
 ],
 "metadata": {
  "kernelspec": {
   "display_name": "Python 3",
   "language": "python",
   "name": "python3"
  },
  "language_info": {
   "codemirror_mode": {
    "name": "ipython",
    "version": 3
   },
   "file_extension": ".py",
   "mimetype": "text/x-python",
   "name": "python",
   "nbconvert_exporter": "python",
   "pygments_lexer": "ipython3",
   "version": "3.7.4"
  }
 },
 "nbformat": 4,
 "nbformat_minor": 2
}
