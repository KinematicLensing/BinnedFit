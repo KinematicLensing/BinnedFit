{
 "cells": [
  {
   "cell_type": "code",
   "execution_count": 1,
   "metadata": {},
   "outputs": [
    {
     "name": "stdout",
     "output_type": "stream",
     "text": [
      "dir_tfCube: /Users/hhg/Research/kinematic_lensing/repo/KLens\n"
     ]
    }
   ],
   "source": [
    "%run /Users/hhg/Research/kinematic_lensing/code/BinnedFit/GaussFit_spec2D.py\n",
    "%run /Users/hhg/Research/kinematic_lensing/code/BinnedFit/ChainTool.py\n",
    "%run /Users/hhg/Research/kinematic_lensing/code/BinnedFit/RotationCurveFit.py\n",
    "%run /Users/hhg/Research/kinematic_lensing/code/BinnedFit/ChainTool.py\n",
    "%run /Users/hhg/Research/kinematic_lensing/code/BinnedFit/gamma.py\n",
    "\n",
    "\n",
    "%config InlineBackend.figure_format = 'retina'\n",
    "\n",
    "import matplotlib.pyplot as plt\n",
    "import numpy as np\n",
    "\n",
    "sys.path.append(\"/Users/hhg/Research/kinematic_lensing/code/BinnedFit/\")\n",
    "from binnedFit_utilities import *\n",
    "\n",
    "\n",
    "sys.path.append(\"/Users/hhg/Research/kinematic_lensing/repo/kl_measurement/scripts/\")\n",
    "from parameter_class import fit_parameters\n",
    "import matplotlib.pyplot as plt\n",
    "import matplotlib as mpl\n",
    "import numpy as np\n",
    "import emcee\n",
    "import chisq\n",
    "from generate_TFcube import get_TFcube_pars, get_data_TFcube\n",
    "\n",
    "from chainconsumer import ChainConsumer\n",
    "%config InlineBackend.figure_format = 'retina'"
   ]
  },
  {
   "cell_type": "code",
   "execution_count": 2,
   "metadata": {},
   "outputs": [],
   "source": [
    "dir_tfCube_data = \"/Users/hhg/Research/kinematic_lensing/data/mock_tfCube/\"\n",
    "dir_chain = \"/Users/hhg/Research/kinematic_lensing/data/mock_tfCube/chain/\""
   ]
  },
  {
   "cell_type": "code",
   "execution_count": 3,
   "metadata": {},
   "outputs": [
    {
     "name": "stdout",
     "output_type": "stream",
     "text": [
      "time cost in gaussFit_spec2D: 0.17858624458312988 (secs)\n",
      "time cost in gaussFit_spec2D: 0.2008819580078125 (secs)\n"
     ]
    },
    {
     "name": "stderr",
     "output_type": "stream",
     "text": [
      "/Users/hhg/opt/anaconda3/lib/python3.7/site-packages/scipy/optimize/minpack.py:795: OptimizeWarning: Covariance of the parameters could not be estimated\n",
      "  category=OptimizeWarning)\n",
      "/Users/hhg/opt/anaconda3/lib/python3.7/site-packages/emcee/moves/red_blue.py:99: RuntimeWarning: invalid value encountered in double_scalars\n",
      "  lnpdiff = f + nlp - state.log_prob[j]\n",
      "100%|██████████| 3000/3000 [09:27<00:00,  5.29it/s]\n"
     ]
    },
    {
     "name": "stdout",
     "output_type": "stream",
     "text": [
      "Total MCMC time (mins): 9.462112033367157\n",
      "time cost in gaussFit_spec2D: 0.3065769672393799 (secs)\n",
      "time cost in gaussFit_spec2D: 0.3708221912384033 (secs)\n"
     ]
    },
    {
     "name": "stderr",
     "output_type": "stream",
     "text": [
      "100%|██████████| 3000/3000 [11:28<00:00,  4.36it/s]\n"
     ]
    },
    {
     "name": "stdout",
     "output_type": "stream",
     "text": [
      "Total MCMC time (mins): 11.472213284174602\n",
      "time cost in gaussFit_spec2D: 0.34023284912109375 (secs)\n",
      "time cost in gaussFit_spec2D: 0.4225578308105469 (secs)\n"
     ]
    },
    {
     "name": "stderr",
     "output_type": "stream",
     "text": [
      "100%|██████████| 3000/3000 [16:51<00:00,  2.97it/s]\n"
     ]
    },
    {
     "name": "stdout",
     "output_type": "stream",
     "text": [
      "Total MCMC time (mins): 16.85731246868769\n",
      "time cost in gaussFit_spec2D: 0.5685648918151855 (secs)\n",
      "time cost in gaussFit_spec2D: 0.39592504501342773 (secs)\n"
     ]
    },
    {
     "name": "stderr",
     "output_type": "stream",
     "text": [
      "100%|██████████| 3000/3000 [16:41<00:00,  3.00it/s]\n"
     ]
    },
    {
     "name": "stdout",
     "output_type": "stream",
     "text": [
      "Total MCMC time (mins): 16.6972612341245\n",
      "time cost in gaussFit_spec2D: 0.4618070125579834 (secs)\n",
      "time cost in gaussFit_spec2D: 0.7216622829437256 (secs)\n"
     ]
    },
    {
     "name": "stderr",
     "output_type": "stream",
     "text": [
      "100%|██████████| 3000/3000 [18:24<00:00,  2.72it/s]\n"
     ]
    },
    {
     "name": "stdout",
     "output_type": "stream",
     "text": [
      "Total MCMC time (mins): 18.4137624502182\n"
     ]
    }
   ],
   "source": [
    "g2_list = [0., 0.025, 0.05, 0.075, 0.1]\n",
    "\n",
    "for g2 in g2_list:\n",
    "    sini=0.5\n",
    "    g1=0.025    ### [0., 0.025, 0.05, 0.075, 0.1]\n",
    "    fname_read = f\"tfCube_sini_{sini:.2f}_g1_{g1:.3f}_g2_{g2:.3f}.pkl\"\n",
    "    data_info=load_pickle(dir_tfCube_data+fname_read)\n",
    "    \n",
    "    Gamma_now=Gamma(data_info=data_info, sigma_TF_intr=0.08, mode_gamma_x=True)\n",
    "    chain_info = Gamma_now.run_MCMC(Nwalker=100, Nsteps=3000)\n",
    "    \n",
    "    fname_chain_info = f\"chain_sini_{sini:.2f}_g1_{g1:.3f}_g2_{g2:.3f}.pkl\"\n",
    "    \n",
    "    save_pickle(dir_chain+fname_chain_info, chain_info)"
   ]
  },
  {
   "cell_type": "code",
   "execution_count": 3,
   "metadata": {},
   "outputs": [
    {
     "name": "stdout",
     "output_type": "stream",
     "text": [
      "time cost in gaussFit_spec2D: 0.17670011520385742 (secs)\n"
     ]
    },
    {
     "name": "stderr",
     "output_type": "stream",
     "text": [
      "/Users/hhg/opt/anaconda3/lib/python3.7/site-packages/scipy/optimize/minpack.py:795: OptimizeWarning: Covariance of the parameters could not be estimated\n",
      "  category=OptimizeWarning)\n"
     ]
    },
    {
     "name": "stdout",
     "output_type": "stream",
     "text": [
      "time cost in gaussFit_spec2D: 0.20270276069641113 (secs)\n"
     ]
    },
    {
     "name": "stderr",
     "output_type": "stream",
     "text": [
      "/Users/hhg/opt/anaconda3/lib/python3.7/site-packages/emcee/moves/red_blue.py:99: RuntimeWarning: invalid value encountered in double_scalars\n",
      "  lnpdiff = f + nlp - state.log_prob[j]\n",
      "100%|██████████| 3000/3000 [08:54<00:00,  5.62it/s]\n"
     ]
    },
    {
     "name": "stdout",
     "output_type": "stream",
     "text": [
      "Total MCMC time (mins): 8.904892782370249\n",
      "time cost in gaussFit_spec2D: 0.22658681869506836 (secs)\n",
      "time cost in gaussFit_spec2D: 0.2778799533843994 (secs)\n"
     ]
    },
    {
     "name": "stderr",
     "output_type": "stream",
     "text": [
      "100%|██████████| 3000/3000 [08:31<00:00,  5.86it/s]\n"
     ]
    },
    {
     "name": "stdout",
     "output_type": "stream",
     "text": [
      "Total MCMC time (mins): 8.530274148782095\n",
      "time cost in gaussFit_spec2D: 0.21698474884033203 (secs)\n",
      "time cost in gaussFit_spec2D: 0.2764289379119873 (secs)\n"
     ]
    },
    {
     "name": "stderr",
     "output_type": "stream",
     "text": [
      "100%|██████████| 3000/3000 [08:25<00:00,  5.93it/s]\n"
     ]
    },
    {
     "name": "stdout",
     "output_type": "stream",
     "text": [
      "Total MCMC time (mins): 8.429282164573669\n",
      "time cost in gaussFit_spec2D: 0.28664088249206543 (secs)\n",
      "time cost in gaussFit_spec2D: 0.20245814323425293 (secs)\n"
     ]
    },
    {
     "name": "stderr",
     "output_type": "stream",
     "text": [
      "100%|██████████| 3000/3000 [09:14<00:00,  5.41it/s]\n"
     ]
    },
    {
     "name": "stdout",
     "output_type": "stream",
     "text": [
      "Total MCMC time (mins): 9.243797183036804\n",
      "time cost in gaussFit_spec2D: 0.2483232021331787 (secs)\n",
      "time cost in gaussFit_spec2D: 0.3768038749694824 (secs)\n"
     ]
    },
    {
     "name": "stderr",
     "output_type": "stream",
     "text": [
      "100%|██████████| 3000/3000 [10:09<00:00,  4.92it/s]\n"
     ]
    },
    {
     "name": "stdout",
     "output_type": "stream",
     "text": [
      "Total MCMC time (mins): 10.158720064163209\n"
     ]
    }
   ],
   "source": [
    "g2_list = [0., 0.025, 0.05, 0.075, 0.1]\n",
    "\n",
    "for g2 in g2_list:\n",
    "    sini=0.5\n",
    "    g1=0.05    ### [0., 0.025, 0.05, 0.075, 0.1]\n",
    "    fname_read = f\"tfCube_sini_{sini:.2f}_g1_{g1:.3f}_g2_{g2:.3f}.pkl\"\n",
    "    data_info=load_pickle(dir_tfCube_data+fname_read)\n",
    "    \n",
    "    Gamma_now=Gamma(data_info=data_info, sigma_TF_intr=0.08, mode_gamma_x=True)\n",
    "    chain_info = Gamma_now.run_MCMC(Nwalker=100, Nsteps=3000)\n",
    "    \n",
    "    fname_chain_info = f\"chain_sini_{sini:.2f}_g1_{g1:.3f}_g2_{g2:.3f}.pkl\"\n",
    "    \n",
    "    save_pickle(dir_chain+fname_chain_info, chain_info)"
   ]
  },
  {
   "cell_type": "code",
   "execution_count": 3,
   "metadata": {},
   "outputs": [
    {
     "name": "stdout",
     "output_type": "stream",
     "text": [
      "time cost in gaussFit_spec2D: 0.2314908504486084 (secs)\n",
      "time cost in gaussFit_spec2D: 0.2745189666748047 (secs)\n"
     ]
    },
    {
     "name": "stderr",
     "output_type": "stream",
     "text": [
      "100%|██████████| 3000/3000 [09:05<00:00,  5.50it/s]\n"
     ]
    },
    {
     "name": "stdout",
     "output_type": "stream",
     "text": [
      "Total MCMC time (mins): 9.087284914652507\n"
     ]
    }
   ],
   "source": [
    "#g2_list = [0., 0.025, 0.05, 0.075, 0.1]\n",
    "g2_list = [0.1]\n",
    "\n",
    "for g2 in g2_list:\n",
    "    sini=0.5\n",
    "    g1=0.075    ### [0., 0.025, 0.05, 0.075, 0.1]\n",
    "    fname_read = f\"tfCube_sini_{sini:.2f}_g1_{g1:.3f}_g2_{g2:.3f}.pkl\"\n",
    "    data_info=load_pickle(dir_tfCube_data+fname_read)\n",
    "    \n",
    "    Gamma_now=Gamma(data_info=data_info, sigma_TF_intr=0.08, mode_gamma_x=True)\n",
    "    chain_info = Gamma_now.run_MCMC(Nwalker=100, Nsteps=3000)\n",
    "    \n",
    "    fname_chain_info = f\"chain_sini_{sini:.2f}_g1_{g1:.3f}_g2_{g2:.3f}.pkl\"\n",
    "    \n",
    "    save_pickle(dir_chain+fname_chain_info, chain_info)"
   ]
  },
  {
   "cell_type": "code",
   "execution_count": null,
   "metadata": {},
   "outputs": [],
   "source": [
    "g2_list = [0., 0.025, 0.05, 0.075, 0.1]\n",
    "\n",
    "for g2 in g2_list:\n",
    "    sini=0.5\n",
    "    g1=0.1    ### [0., 0.025, 0.05, 0.075, 0.1]\n",
    "    fname_read = f\"tfCube_sini_{sini:.2f}_g1_{g1:.3f}_g2_{g2:.3f}.pkl\"\n",
    "    data_info=load_pickle(dir_tfCube_data+fname_read)\n",
    "    \n",
    "    Gamma_now=Gamma(data_info=data_info, sigma_TF_intr=0.08, mode_gamma_x=True)\n",
    "    chain_info = Gamma_now.run_MCMC(Nwalker=100, Nsteps=3000)\n",
    "    \n",
    "    fname_chain_info = f\"chain_sini_{sini:.2f}_g1_{g1:.3f}_g2_{g2:.3f}.pkl\"\n",
    "    \n",
    "    save_pickle(dir_chain+fname_chain_info, chain_info)"
   ]
  },
  {
   "cell_type": "code",
   "execution_count": null,
   "metadata": {},
   "outputs": [],
   "source": []
  }
 ],
 "metadata": {
  "kernelspec": {
   "display_name": "Python 3",
   "language": "python",
   "name": "python3"
  },
  "language_info": {
   "codemirror_mode": {
    "name": "ipython",
    "version": 3
   },
   "file_extension": ".py",
   "mimetype": "text/x-python",
   "name": "python",
   "nbconvert_exporter": "python",
   "pygments_lexer": "ipython3",
   "version": "3.7.4"
  }
 },
 "nbformat": 4,
 "nbformat_minor": 2
}
