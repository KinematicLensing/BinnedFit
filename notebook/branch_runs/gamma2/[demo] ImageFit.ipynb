{
 "cells": [
  {
   "cell_type": "code",
   "execution_count": 2,
   "metadata": {},
   "outputs": [
    {
     "name": "stdout",
     "output_type": "stream",
     "text": [
      "dir_tfCube: /Users/hhg/Research/kinematic_lensing/repo/KLens\n"
     ]
    }
   ],
   "source": [
    "%run /Users/hhg/Research/kinematic_lensing/code/BinnedFit/GaussFit_spec2D.py\n",
    "%run /Users/hhg/Research/kinematic_lensing/code/BinnedFit/ChainTool.py\n",
    "\n",
    "%config InlineBackend.figure_format = 'retina'\n",
    "\n",
    "import matplotlib.pyplot as plt\n",
    "import numpy as np\n",
    "\n",
    "sys.path.append(\"/Users/hhg/Research/kinematic_lensing/code/BinnedFit/\")\n",
    "from binnedFit_utilities import *"
   ]
  },
  {
   "cell_type": "code",
   "execution_count": 3,
   "metadata": {},
   "outputs": [],
   "source": [
    "sys.path.append(\"/Users/hhg/Research/kinematic_lensing/repo/kl_measurement/scripts/\")\n",
    "from parameter_class import fit_parameters\n",
    "import matplotlib.pyplot as plt\n",
    "import matplotlib as mpl\n",
    "import numpy as np\n",
    "import emcee\n",
    "import chisq\n",
    "from generate_TFcube import get_TFcube_pars, get_data_TFcube"
   ]
  },
  {
   "cell_type": "code",
   "execution_count": 17,
   "metadata": {},
   "outputs": [
    {
     "name": "stdout",
     "output_type": "stream",
     "text": [
      "eobs_thy: 0.13636363636363635\n",
      "slitAng_major_p: 126.05071492878113\n",
      "slitAng_minor_p: 216.05071492878113\n"
     ]
    }
   ],
   "source": [
    "sini = 0.5\n",
    "g1 = 0.0\n",
    "g2 = 0.3\n",
    "\n",
    "eint_thy = cal_e_int(sini=sini)\n",
    "eobs_thy = cal_e_obs(e_int=eint_thy, gamma_p=g1)\n",
    "theta_obs = cal_theta_obs(e_int=eint_thy, gamma_x=g2)\n",
    "\n",
    "slitAng_major_p = theta_obs\n",
    "slitAng_minor_p = theta_obs + np.pi/2.\n",
    "\n",
    "bestfit_e_obs = eobs_thy\n",
    "print(\"eobs_thy:\", eobs_thy)\n",
    "print(\"slitAng_major_p:\", slitAng_major_p*180./np.pi)\n",
    "print(\"slitAng_minor_p:\", slitAng_minor_p*180./np.pi)"
   ]
  },
  {
   "cell_type": "code",
   "execution_count": 18,
   "metadata": {},
   "outputs": [
    {
     "name": "stdout",
     "output_type": "stream",
     "text": [
      "returning:\n",
      "lambda, observation, model, sky (the last three are (npix, npix, nspax) datacubes)\n",
      "CPU times: user 6.9 s, sys: 44.6 ms, total: 6.95 s\n",
      "Wall time: 5.59 s\n"
     ]
    }
   ],
   "source": [
    "update_TF, _ = get_TFcube_pars()\n",
    "\n",
    "update_TF['slitAngles'] = np.array([0.])\n",
    "\n",
    "update_TF['g1'] = g1\n",
    "update_TF['g2'] = g2\n",
    "update_TF['sini'] = sini\n",
    "update_TF['vcirc'] = 200. \n",
    "\n",
    "update_TF['n_knots'] = 25.\n",
    "update_TF['knot_fraction'] = 0.0\n",
    "update_TF['throughput'] = 0.29\n",
    "update_TF['slitWidth'] = 0.05\n",
    "update_TF['psfFWHM'] = 0.5\n",
    "update_TF['pixScale'] = 0.1185# 0.1185  # 0.032 \n",
    "\n",
    "update_TF['redshift'] = 0.2\n",
    "update_TF['Resolution'] = 6000.\n",
    "update_TF['nm_per_pixel'] = 0.033 #0.033 # 0.025\n",
    "update_TF['expTime'] = 3600.0 \n",
    "update_TF['linelist']['flux'][update_TF['linelist']['species'] == 'Halpha'] = 6.0e-24\n",
    "update_TF['lambda_min'] = (1 + update_TF['redshift']) * update_TF['linelist']['lambda'][update_TF['linelist']['species'] == 'Halpha'] - 2\n",
    "update_TF['lambda_max'] = (1 + update_TF['redshift']) * update_TF['linelist']['lambda'][update_TF['linelist']['species'] == 'Halpha'] + 2\n",
    "update_TF['norm'] = 0.\n",
    "update_TF['ngrid'] = 256\n",
    "update_TF['image_size'] = 128\n",
    "\n",
    "TF_pars, meta_parameters = get_TFcube_pars(update_TF)\n",
    "\n",
    "%time data, noise, obslambda = get_data_TFcube(TF_pars, meta_parameters, return_lambda=True)\n",
    "\n",
    "\n",
    "# make data_info from Prangal's data output\n",
    "\n",
    "data_info = {}\n",
    "data_info['ModelCube'] = None\n",
    "data_info['ObsCube'] = None\n",
    "data_info['image'] = data['image']\n",
    "data_info['image_variance'] = noise['image']\n",
    "\n",
    "if len(TF_pars['slitAngles']) == 1:\n",
    "    data_info['data'] = data['spectra'][0]\n",
    "else:\n",
    "    #data_info['data'] = data['spectra'][0] # this line is to make it compatible with older branches... \n",
    "    data_info['data_major'] = data['spectra'][0]\n",
    "    data_info['data_minor'] = data['spectra'][1]\n",
    "    \n",
    "data_info['grid_lambda'] = obslambda\n",
    "\n",
    "extent =  TF_pars['image_size'] * TF_pars['pixScale']\n",
    "subGridPixScale = extent*1./TF_pars['ngrid']\n",
    "\n",
    "data_info['grid_pos']    = np.arange(-extent/2., extent/2., subGridPixScale)\n",
    "data_info['grid_Image']  = np.arange(-extent/2., extent/2., TF_pars['pixScale'])\n",
    "data_info['par_fid']     = TF_pars\n",
    "data_info['lambda_emit'] = 656.461 # Halpha [nm]"
   ]
  },
  {
   "cell_type": "code",
   "execution_count": 19,
   "metadata": {},
   "outputs": [
    {
     "data": {
      "text/plain": [
       "{'g1': 0.0,\n",
       " 'g2': 0.3,\n",
       " 'sini': 0.5,\n",
       " 'diskFrac': 1.0,\n",
       " 'n_knots': 25.0,\n",
       " 'knot_fraction': 0.0,\n",
       " 'aspect': 0.2,\n",
       " 'vcirc': 200.0,\n",
       " 'sigma_intr': 0.01,\n",
       " 'redshift': 0.2,\n",
       " 'half_light_radius': 0.5,\n",
       " 'vscale': 0.5,\n",
       " 'r_0': 0.0,\n",
       " 'V_0': 0.0,\n",
       " 'linelist': array([('OIIa', 372.7092, 2.e-25), ('OIIb', 372.9875, 2.e-25),\n",
       "        ('OIIIa', 496.0295, 2.e-25), ('OIIIb', 500.824 , 2.e-25),\n",
       "        ('Halpha', 656.461 , 6.e-24)],\n",
       "       dtype=[('species', '<U16'), ('lambda', '<f8'), ('flux', '<f8')]),\n",
       " 'norm': 0.0,\n",
       " 'abs_magnitude': None,\n",
       " 'image_size': 128,\n",
       " 'ngrid': 256,\n",
       " 'psfFWHM': 0.5,\n",
       " 'psf_g1': 0.0,\n",
       " 'psf_g2': 0.0,\n",
       " 'area': 785000.0,\n",
       " 'pixScale': 0.1185,\n",
       " 'Resolution': 6000.0,\n",
       " 'lambda_min': array([785.7532]),\n",
       " 'lambda_max': array([789.7532]),\n",
       " 'nm_per_pixel': 0.033,\n",
       " 'gain': 1.0,\n",
       " 'read_noise': 3.0,\n",
       " 'throughput': 0.29,\n",
       " 'expTime': 3600.0,\n",
       " 'type_of_observation': 'slit',\n",
       " 'fiber_size': 1.0,\n",
       " 'fiber_offsets': [[0.0, 0.0],\n",
       "  [1.0, 0.0],\n",
       "  [-1.0, 0.0],\n",
       "  [0.0, 1.0],\n",
       "  [1.0, 1.0]],\n",
       " 'slitAngles': array([0.]),\n",
       " 'slitWidth': 0.05,\n",
       " 'offset_x': 0,\n",
       " 'offset_y': 0}"
      ]
     },
     "execution_count": 19,
     "metadata": {},
     "output_type": "execute_result"
    }
   ],
   "source": [
    "TF_pars"
   ]
  },
  {
   "cell_type": "code",
   "execution_count": null,
   "metadata": {},
   "outputs": [],
   "source": []
  },
  {
   "cell_type": "code",
   "execution_count": 20,
   "metadata": {},
   "outputs": [],
   "source": [
    "# make data_info from Prangal's data output\n",
    "\n",
    "data_info = {}\n",
    "data_info['ModelCube'] = None\n",
    "data_info['ObsCube'] = None\n",
    "data_info['image'] = data['image']\n",
    "data_info['image_variance'] = noise['image']\n",
    "\n",
    "if len(TF_pars['slitAngles']) == 1:\n",
    "    data_info['data'] = data['spectra'][0]\n",
    "else:\n",
    "    data_info['data_list'] = data['spectra']\n",
    "    \n",
    "data_info['grid_lambda'] = obslambda\n",
    "\n",
    "extent =  TF_pars['image_size'] * TF_pars['pixScale']\n",
    "subGridPixScale = extent*1./TF_pars['ngrid']\n",
    "\n",
    "data_info['grid_pos']  = np.arange(-extent/2., extent/2., subGridPixScale)\n",
    "data_info['grid_Image'] = np.arange(-extent/2., extent/2., TF_pars['pixScale'])\n",
    "data_info['par_fid']   = TF_pars\n",
    "data_info['lambda_emit'] = 656.461 # Halpha [nm]"
   ]
  },
  {
   "cell_type": "code",
   "execution_count": null,
   "metadata": {},
   "outputs": [],
   "source": []
  },
  {
   "cell_type": "code",
   "execution_count": null,
   "metadata": {},
   "outputs": [],
   "source": []
  },
  {
   "cell_type": "code",
   "execution_count": 15,
   "metadata": {},
   "outputs": [
    {
     "name": "stderr",
     "output_type": "stream",
     "text": [
      "100%|██████████| 1000/1000 [00:53<00:00, 18.77it/s]"
     ]
    },
    {
     "name": "stdout",
     "output_type": "stream",
     "text": [
      "Total MCMC time (mins): 0.8887345989545187\n"
     ]
    },
    {
     "name": "stderr",
     "output_type": "stream",
     "text": [
      "\n"
     ]
    }
   ],
   "source": [
    "%run /Users/hhg/Research/kinematic_lensing/code/BinnedFit/ImageFit.py\n",
    "ImageFit = ImageFit(data_info=data_info)\n",
    "\n",
    "chainImage_info = ImageFit.run_MCMC(Nwalker=50, Nsteps=1000)\n",
    "\n",
    "Chain_Image = ChainTool(chainImage_info, Nburn=30000, Nend=50000)"
   ]
  },
  {
   "cell_type": "code",
   "execution_count": 14,
   "metadata": {},
   "outputs": [
    {
     "ename": "NameError",
     "evalue": "name 'Chain_Image' is not defined",
     "output_type": "error",
     "traceback": [
      "\u001b[0;31m---------------------------------------------------------------------------\u001b[0m",
      "\u001b[0;31mNameError\u001b[0m                                 Traceback (most recent call last)",
      "\u001b[0;32m<ipython-input-14-3a27f4fb1e4b>\u001b[0m in \u001b[0;36m<module>\u001b[0;34m\u001b[0m\n\u001b[1;32m      7\u001b[0m \u001b[0mselect_par_key\u001b[0m \u001b[0;34m=\u001b[0m \u001b[0;34m[\u001b[0m\u001b[0;34m'e_obs'\u001b[0m\u001b[0;34m,\u001b[0m\u001b[0;34m'half_light_radius'\u001b[0m\u001b[0;34m]\u001b[0m\u001b[0;34m\u001b[0m\u001b[0;34m\u001b[0m\u001b[0m\n\u001b[1;32m      8\u001b[0m \u001b[0;34m\u001b[0m\u001b[0m\n\u001b[0;32m----> 9\u001b[0;31m \u001b[0mparID1\u001b[0m\u001b[0;34m,\u001b[0m\u001b[0mparName1\u001b[0m\u001b[0;34m,\u001b[0m\u001b[0mpar_x1\u001b[0m \u001b[0;34m=\u001b[0m \u001b[0mChain_Image\u001b[0m\u001b[0;34m.\u001b[0m\u001b[0mselect_par_info\u001b[0m\u001b[0;34m(\u001b[0m\u001b[0mselect_par_key\u001b[0m\u001b[0;34m)\u001b[0m\u001b[0;34m\u001b[0m\u001b[0;34m\u001b[0m\u001b[0m\n\u001b[0m\u001b[1;32m     10\u001b[0m \u001b[0;34m\u001b[0m\u001b[0m\n\u001b[1;32m     11\u001b[0m \u001b[0mc\u001b[0m \u001b[0;34m=\u001b[0m \u001b[0mChainConsumer\u001b[0m\u001b[0;34m(\u001b[0m\u001b[0;34m)\u001b[0m\u001b[0;34m\u001b[0m\u001b[0;34m\u001b[0m\u001b[0m\n",
      "\u001b[0;31mNameError\u001b[0m: name 'Chain_Image' is not defined"
     ]
    }
   ],
   "source": [
    "Nchains = 1\n",
    "colors = [gray, lightblue, red, yellow, blue, yellowgreen, green, green, black]\n",
    "lines = [\"-\", '--', \"--\", \"-.\", '-', \":\", \"--\", ':']\n",
    "\n",
    "statistics=\"max\"\n",
    "\n",
    "select_par_key = ['e_obs','half_light_radius']\n",
    "\n",
    "parID1,parName1,par_x1 = Chain_Image.select_par_info(select_par_key)\n",
    "\n",
    "c = ChainConsumer()\n",
    "c.add_chain(Chain_Image.chain[:, parID1], parameters=parName1 ,name=\"$\\mathrm{chain1}$\")\n",
    "\n",
    "\n",
    "c.configure(linewidths=2.5,sigmas=np.array([0,1,2]),bins=0.5,sigma2d=False,label_font_size=22,tick_font_size=22\n",
    "            ,colors=colors\n",
    "            ,shade=[False]*Nchains\n",
    "            ,statistics=statistics,summary=True\n",
    "            ,linestyles=lines\n",
    "            ,shade_gradient=[0]*Nchains\n",
    "            ,bar_shade=[True]*Nchains)\n",
    "\n",
    "\n",
    "c.configure_truth(color=\"gray\",lw=1,ls=\"-\",alpha=0.8, zorder=-1)\n",
    "fig = c.plotter.plot(legend=True, truth=[eobs_thy,0.5]) #, truth=par_x1\n",
    "\n",
    "fig.subplots_adjust(left=0.12, right=0.99, bottom=0.11, top=0.99)\n",
    "\n",
    "fig.set_size_inches(2 + fig.get_size_inches())\n",
    "fig.savefig(\"fig1.pdf\", transparent=True)"
   ]
  },
  {
   "cell_type": "code",
   "execution_count": null,
   "metadata": {},
   "outputs": [],
   "source": []
  },
  {
   "cell_type": "markdown",
   "metadata": {},
   "source": [
    "# Plot Image"
   ]
  },
  {
   "cell_type": "code",
   "execution_count": 15,
   "metadata": {},
   "outputs": [
    {
     "name": "stdout",
     "output_type": "stream",
     "text": [
      "time cost in gaussFit_spec2D: 0.16487884521484375 (secs)\n"
     ]
    }
   ],
   "source": [
    "GaussFit = GaussFit_spec2D(data_info)\n",
    "\n",
    "fitted_peakLambda, fitted_amp, fitted_sigma = GaussFit.gaussFit_spec2D(data=GaussFit.data)\n",
    "model = GaussFit.model_spec2D(fitted_peakLambda,fitted_amp,fitted_sigma)\n",
    "data = GaussFit.data\n",
    "\n",
    "# get pixel edges\n",
    "lambda_min = np.min(GaussFit.grid_lambda)  ; lambda_MAX = np.max(GaussFit.grid_lambda)\n",
    "x_min = np.min(GaussFit.grid_pos)          ; x_MAX = np.max(GaussFit.grid_pos)"
   ]
  },
  {
   "cell_type": "code",
   "execution_count": 21,
   "metadata": {},
   "outputs": [
    {
     "data": {
      "text/plain": [
       "Text(0, 0.5, 'arcmin')"
      ]
     },
     "execution_count": 21,
     "metadata": {},
     "output_type": "execute_result"
    },
    {
     "data": {
      "image/png": "[encoded data removed]",
      "text/plain": [
       "<Figure size 216x216 with 1 Axes>"
      ]
     },
     "metadata": {
      "image/png": {
       "height": 207,
       "width": 217
      },
      "needs_background": "light"
     },
     "output_type": "display_data"
    }
   ],
   "source": [
    "# check image\n",
    "fig, ax = plt.subplots(1,1, figsize=(3.,3.))\n",
    "#ax.contourf(data_info['image'] ,extent=[x_min, x_MAX, x_min, x_MAX])\n",
    "ax.contourf(data_info['image'][:,32:96][32:96,:] ,extent=[x_min, x_MAX/2, x_min, x_MAX/2])\n",
    "\n",
    "\n",
    "ax.set_xlabel('arcmin')\n",
    "ax.set_ylabel('arcmin')"
   ]
  },
  {
   "cell_type": "code",
   "execution_count": null,
   "metadata": {},
   "outputs": [],
   "source": []
  },
  {
   "cell_type": "code",
   "execution_count": null,
   "metadata": {},
   "outputs": [],
   "source": []
  },
  {
   "cell_type": "code",
   "execution_count": null,
   "metadata": {},
   "outputs": [],
   "source": []
  },
  {
   "cell_type": "code",
   "execution_count": null,
   "metadata": {},
   "outputs": [],
   "source": []
  }
 ],
 "metadata": {
  "kernelspec": {
   "display_name": "Python 3",
   "language": "python",
   "name": "python3"
  },
  "language_info": {
   "codemirror_mode": {
    "name": "ipython",
    "version": 3
   },
   "file_extension": ".py",
   "mimetype": "text/x-python",
   "name": "python",
   "nbconvert_exporter": "python",
   "pygments_lexer": "ipython3",
   "version": "3.7.4"
  }
 },
 "nbformat": 4,
 "nbformat_minor": 2
}
