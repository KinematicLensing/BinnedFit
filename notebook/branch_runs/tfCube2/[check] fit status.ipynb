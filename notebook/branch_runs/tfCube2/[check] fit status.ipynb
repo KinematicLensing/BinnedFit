{
 "cells": [
  {
   "cell_type": "code",
   "execution_count": 1,
   "metadata": {},
   "outputs": [
    {
     "name": "stdout",
     "output_type": "stream",
     "text": [
      "dir_tfCube: /Users/hhg/Research/kinematic_lensing/repo/BinnedFit/notebook/branch_runs/tfCube2/../../../../KLens\n"
     ]
    }
   ],
   "source": [
    "#%run /Users/hhg/Research/kinematic_lensing/repo/BinnedFit/RotationCurveFit.py\n",
    "#%run /Users/hhg/Research/kinematic_lensing/repo/BinnedFit/ChainTool.py\n",
    "\n",
    "import numpy as np\n",
    "%config InlineBackend.figure_format = 'retina'\n",
    "import matplotlib.pyplot as plt\n",
    "\n",
    "import astropy.units as u\n",
    "import astropy.constants as constants\n",
    "\n",
    "import sys\n",
    "import os\n",
    "dir_current = globals()['_dh'][0]\n",
    "dir_repo = dir_current+'/../../../..'\n",
    "dir_BinnedFit = dir_repo+\"/BinnedFit\"\n",
    "dir_KLens = dir_repo+\"/KLens\"\n",
    "\n",
    "sys.path.append(dir_KLens)\n",
    "from KLtool import *\n",
    "from tfCube2 import TFCube\n",
    "\n",
    "sys.path.append(dir_BinnedFit)\n",
    "from binnedFit_utilities import *\n",
    "from RotationCurveFit import RotationCurveFit, GaussFit_signle\n",
    "from ChainTool import ChainTool\n",
    "from Gamma import Gamma\n",
    "\n",
    "from matplotlib.colors import BoundaryNorm\n",
    "from matplotlib.ticker import MaxNLocator"
   ]
  },
  {
   "cell_type": "markdown",
   "metadata": {},
   "source": [
    "# set parameters"
   ]
  },
  {
   "cell_type": "code",
   "execution_count": 2,
   "metadata": {},
   "outputs": [
    {
     "name": "stdout",
     "output_type": "stream",
     "text": [
      "2.9999999999999994e-16 erg / (cm2 nm s)\n",
      "eobs_thy: 0.23450413223140495\n",
      "slitAng_major_p: 2.726310993906266\n",
      "slitAng_minor_p: 92.72631099390625\n",
      "flux_norm 516.3410186767578\n",
      "avgFlux_per_pix 0.9999999379724022\n"
     ]
    }
   ],
   "source": [
    "###### set up parameters ######\n",
    "pars = {}\n",
    "pars['g1'] = 0.05\n",
    "pars['g2'] = 0.05\n",
    "pars['sini'] = 0.5\n",
    "\n",
    "pars['redshift'] = 0.25\n",
    "\n",
    "pars['aspect'] = 0.2\n",
    "pars['half_light_radius'] = 0.5\n",
    "pars['theta_int'] = 0./180.*np.pi #np.pi/3.\n",
    "\n",
    "pars['slitWidth'] = 1.0\n",
    "pars['ngrid'] = 128\n",
    "\n",
    "pars['norm'] = 0.0\n",
    "\n",
    "pars['Resolution'] = 6000.\n",
    "pars['expTime'] = 60.*30. #60.*30.\n",
    "pars['pixScale'] = 0.1185\n",
    "pars['nm_per_pixel'] = 0.033\n",
    "pars['throughput'] = 0.29\n",
    "pars['psfFWHM'] = 0.5\n",
    "\n",
    "pars['area'] = 3.14 * (1000./2.)**2 \n",
    "\n",
    "pars['vcirc'] = 200.\n",
    "\n",
    "linelist = np.empty(5,dtype=[('species',np.str_,16),\n",
    "                                  ('lambda',np.float),\n",
    "                                  ('flux',np.float)])\n",
    "linelist['species'] = ['OIIa','OIIb','OIIIa','OIIIb','Halpha']\n",
    "linelist['lambda'] =  [372.7092,372.9875,496.0295,500.8240,656.461]\n",
    "\n",
    "fiber_SDSS = np.pi * 1.5**2\n",
    "refSDSSspec = 3.*1e-17 * u.erg/u.second/u.Angstrom/u.cm**2\n",
    "refSDSSspec = refSDSSspec.to(u.erg/u.second/u.nm/u.cm**2)\n",
    "print(refSDSSspec)\n",
    "\n",
    "linelist['flux'] = refSDSSspec.value / fiber_SDSS  # [unit: erg/s/cm2/nm/arcsec2]\n",
    "\n",
    "pars['linelist'] = linelist\n",
    "\n",
    "\n",
    "###### setup slitAngles to major & minor axes ######\n",
    "\n",
    "eint_thy = cal_e_int(sini=pars['sini'], q_z=pars['aspect'])\n",
    "eobs_thy = cal_e_obs(e_int=eint_thy, g1=pars['g1'])\n",
    "theta_obs = cal_theta_obs(g1=pars['g1'], g2=pars['g2'], theta_int=pars['theta_int'])\n",
    "\n",
    "slitAng_major_p = theta_obs #0.001 #theta_obs    \n",
    "slitAng_minor_p = theta_obs + np.pi/2. #np.pi/2. #theta_obs + np.pi/2.\n",
    "\n",
    "\n",
    "bestfit_e_obs = eobs_thy\n",
    "print(\"eobs_thy:\", eobs_thy)\n",
    "print(\"slitAng_major_p:\", slitAng_major_p*180./np.pi)\n",
    "print(\"slitAng_minor_p:\", slitAng_minor_p*180./np.pi)\n",
    "\n",
    "pars['slitAngles'] = np.array([slitAng_major_p, slitAng_minor_p])\n",
    "#pars['slitAngles'] = np.array([slitAng_major_p])\n",
    "\n",
    "\n",
    "###### find flux_norm ######\n",
    "\n",
    "flux_norm = find_flux_norm(pars, R=1.5)\n",
    "print(\"flux_norm\", flux_norm)\n",
    "\n",
    "avgFlux_per_pix = avgFlux_in_R_per_pix(pars, flux_norm=flux_norm, R=1.5)\n",
    "print(\"avgFlux_per_pix\", avgFlux_per_pix)\n",
    "\n",
    "\n",
    "##############################\n",
    "line_species='Halpha'"
   ]
  },
  {
   "cell_type": "code",
   "execution_count": null,
   "metadata": {},
   "outputs": [],
   "source": []
  },
  {
   "cell_type": "markdown",
   "metadata": {},
   "source": [
    "# generate mock data"
   ]
  },
  {
   "cell_type": "code",
   "execution_count": 3,
   "metadata": {},
   "outputs": [
    {
     "name": "stdout",
     "output_type": "stream",
     "text": [
      "line_species Halpha\n",
      "lambda_emit 656.461\n"
     ]
    }
   ],
   "source": [
    "###### image ######\n",
    "GalIM = GalaxyImage(pars=pars, flux_norm=flux_norm)\n",
    "obsImg, obsImgVariance = GalIM.observation(signal_to_noise=100.)\n",
    "\n",
    "e_obs = GalIM.distorsion_int\n",
    "modelImg = GalIM.model(e=e_obs, half_light_radius=pars['half_light_radius'], theta_int=pars['theta_int'], \\\n",
    "                       g1=pars['g1'], g2=pars['g2'])\n",
    "\n",
    "###### spectra ######\n",
    "TF = TFCube(pars=pars, line_species=line_species, flux_norm=flux_norm, sky_norm=1.)\n",
    "\n",
    "modelSpec = TF.model2D(vcirc=TF.Pars.fid['vcirc'], sini=TF.Pars.fid['sini'], \\\n",
    "                       g1=TF.Pars.fid['g1'], g2=TF.Pars.fid['g2'], vscale=TF.Pars.fid['vscale'], \\\n",
    "                       v_0=TF.Pars.fid['v_0'], r_0=TF.Pars.fid['r_0'], theta_int=TF.Pars.fid['theta_int'], \\\n",
    "                       slitAngles=TF.Pars.fid['slitAngles'])\n",
    "\n",
    "# obsCube = TF.observation3D()\n",
    "# obsSpec = TF.observation2D(obsCube=obsCube)\n",
    "\n",
    "###### prepare data_info ######\n",
    "\n",
    "data_info = {'spec':modelSpec, \n",
    "             'image':modelImg,    \n",
    "             'image_variance': obsImgVariance,\n",
    "             'spec_variance': TF.skySpec,\n",
    "             'par_fid': TF.Pars.fid,\n",
    "             'flux_norm': flux_norm}\n",
    "\n",
    "# data_info = {'spec':obsSpec, \n",
    "#              'image':obsImg,    \n",
    "#              'image_variance': obsImgVariance,\n",
    "#              'spec_variance': TF.skySpec}\n",
    "\n",
    "data_info['lambdaGrid'] = TF.lambdaGrid\n",
    "data_info['spaceGrid'] = TF.spaceGrid\n",
    "data_info['line_species'] = line_species\n",
    "data_info['lambda_emit'] = pars['linelist']['lambda'][pars['linelist']['species']==line_species][0] #656.461 # Halpha [nm]\n",
    "\n",
    "print('line_species',line_species)\n",
    "print('lambda_emit',data_info['lambda_emit'])"
   ]
  },
  {
   "cell_type": "code",
   "execution_count": null,
   "metadata": {},
   "outputs": [],
   "source": []
  },
  {
   "cell_type": "code",
   "execution_count": 4,
   "metadata": {},
   "outputs": [
    {
     "name": "stdout",
     "output_type": "stream",
     "text": [
      "time cost in gaussFit_spec2D: 0.08144569396972656 (secs)\n",
      "time cost in gaussFit_spec2D: 0.08670306205749512 (secs)\n"
     ]
    }
   ],
   "source": [
    "GM=Gamma(data_info=data_info, \\\n",
    "         active_par_key=['vcirc', 'sini', 'vscale', 'r_0', 'v_0', 'g1', 'g2', 'half_light_radius','theta_int'])"
   ]
  },
  {
   "cell_type": "code",
   "execution_count": null,
   "metadata": {},
   "outputs": [],
   "source": []
  },
  {
   "cell_type": "code",
   "execution_count": 5,
   "metadata": {},
   "outputs": [
    {
     "data": {
      "text/plain": [
       "array([2.e+02, 5.e-01, 5.e-01, 0.e+00, 0.e+00, 5.e-02, 5.e-02, 5.e-01,\n",
       "       0.e+00])"
      ]
     },
     "execution_count": 5,
     "metadata": {},
     "output_type": "execute_result"
    }
   ],
   "source": [
    "active_par_fid = np.zeros(len(GM.active_par_key))\n",
    "for j, item in enumerate(GM.active_par_key):\n",
    "    active_par_fid[j] = GM.par_fid[item]\n",
    "active_par_fid"
   ]
  },
  {
   "cell_type": "markdown",
   "metadata": {},
   "source": [
    "# Check"
   ]
  },
  {
   "cell_type": "code",
   "execution_count": 7,
   "metadata": {},
   "outputs": [],
   "source": [
    "#active_par_in = active_par_fid.copy()\n",
    "#active_par_in = np.array([ 200.,  0.5,  0.5,  0., 0., 0., 0.,  0.5, -10./180.*np.pi])\n",
    "active_par_in=np.array([ 1.96536091e+02,  5.42463379e-01,  7.34027888e-01, -1.46131834e-02,\n",
    "        5.50775993e-01, -1.77364315e-02, -1.66924452e-03,  5.01150147e-01,\n",
    "       -2.67695927e-03])\n",
    "par_in = GM.Pars.gen_par_dict(active_par=active_par_in, active_par_key=GM.active_par_key, par_ref=GM.par_base)"
   ]
  },
  {
   "cell_type": "code",
   "execution_count": 8,
   "metadata": {},
   "outputs": [
    {
     "name": "stdout",
     "output_type": "stream",
     "text": [
      "vcirc:  196.536091\n",
      "sini:  0.542463379\n",
      "vscale:  0.734027888\n",
      "r_0:  -0.0146131834\n",
      "v_0:  0.550775993\n",
      "g1:  -0.0177364315\n",
      "g2:  -0.00166924452\n",
      "half_light_radius:  0.501150147\n",
      "theta_int:  -0.00267695927\n"
     ]
    }
   ],
   "source": [
    "for ind, key in enumerate(GM.active_par_key):\n",
    "    print(key+\": \",active_par_in[ind])"
   ]
  },
  {
   "cell_type": "markdown",
   "metadata": {},
   "source": [
    "### likelihood"
   ]
  },
  {
   "cell_type": "code",
   "execution_count": 9,
   "metadata": {},
   "outputs": [
    {
     "data": {
      "text/plain": [
       "-12.910332725192855"
      ]
     },
     "execution_count": 9,
     "metadata": {},
     "output_type": "execute_result"
    }
   ],
   "source": [
    "loglike_now = GM.cal_loglike(active_par=active_par_in)\n",
    "loglike_now"
   ]
  },
  {
   "cell_type": "code",
   "execution_count": 10,
   "metadata": {},
   "outputs": [],
   "source": [
    "image_out = GM.ImgFit.model_image(sini=par_in['sini'] , half_light_radius=par_in['half_light_radius'], \\\n",
    "                                  theta_int=par_in['theta_int'], g1=par_in['g1'], g2=par_in['g2'])"
   ]
  },
  {
   "cell_type": "code",
   "execution_count": null,
   "metadata": {},
   "outputs": [],
   "source": []
  },
  {
   "cell_type": "code",
   "execution_count": 11,
   "metadata": {},
   "outputs": [],
   "source": [
    "rot_curve_out = []\n",
    "for j in range(GM.RotFit.Nspec):\n",
    "    rot_curve_j = GM.RotFit.model_arctan_rotation(r=GM.RotFit.spec_stats[j]['spaceGrid'], \\\n",
    "                                                vcirc = par_in['vcirc'], \\\n",
    "                                                sini = par_in['sini'], \\\n",
    "                                                vscale=par_in['vscale'], \\\n",
    "                                                r_0=par_in['r_0'], v_0=par_in['v_0'], \\\n",
    "                                                g1=par_in['g1'], g2=par_in['g2'], \\\n",
    "                                                theta_int=par_in['theta_int'], redshift=par_in['redshift'], \\\n",
    "                                                slitAngle=par_in['slitAngles'][j]\n",
    "                                               )\n",
    "    rot_curve_out.append(rot_curve_j)"
   ]
  },
  {
   "cell_type": "markdown",
   "metadata": {},
   "source": [
    "## Image display"
   ]
  },
  {
   "cell_type": "code",
   "execution_count": 12,
   "metadata": {},
   "outputs": [
    {
     "data": {
      "text/plain": [
       "Text(0.5, 1.0, 'model at par_in')"
      ]
     },
     "execution_count": 12,
     "metadata": {},
     "output_type": "execute_result"
    },
    {
     "data": {
      "image/png": "[encoded data removed]",
      "text/plain": [
       "<Figure size 864x288 with 4 Axes>"
      ]
     },
     "metadata": {
      "image/png": {
       "height": 286,
       "width": 705
      },
      "needs_background": "light"
     },
     "output_type": "display_data"
    }
   ],
   "source": [
    "X, Y = np.meshgrid(GalIM.spaceGrid, GalIM.spaceGrid)\n",
    "\n",
    "fig, ax = plt.subplots(1,2, figsize=(12., 4.))\n",
    "plt.rc('font',size=14)\n",
    "\n",
    "levels = MaxNLocator(nbins=20).tick_values(obsImg.min(), obsImg.max())\n",
    "norm = BoundaryNorm(levels, ncolors=plt.cm.jet.N, clip=True)\n",
    "\n",
    "galo = ax[0].pcolormesh(X, Y, data_info['image'], cmap=plt.cm.jet, norm=norm)\n",
    "galm = ax[1].pcolormesh(X, Y, image_out, cmap=plt.cm.jet, norm=norm)\n",
    "\n",
    "fig.colorbar(galo, ax=ax[0])\n",
    "fig.colorbar(galm, ax=ax[1])\n",
    "\n",
    "axixlim = 2.5\n",
    "\n",
    "for j in range(2):\n",
    "    ax[j].set_xlim((-axixlim, axixlim))\n",
    "    ax[j].set_ylim((-axixlim, axixlim))\n",
    "    ax[j].set_aspect('equal')\n",
    "    ax[j].set_xlabel('x', fontsize=16)\n",
    "    ax[j].set_ylabel('y', fontsize=16)\n",
    "\n",
    "ax[0].set_title('fiducial model')\n",
    "ax[1].set_title('model at par_in')"
   ]
  },
  {
   "cell_type": "markdown",
   "metadata": {},
   "source": [
    "## spec display"
   ]
  },
  {
   "cell_type": "code",
   "execution_count": 13,
   "metadata": {},
   "outputs": [
    {
     "name": "stdout",
     "output_type": "stream",
     "text": [
      "time cost in gaussFit_spec2D: 0.08185887336730957 (secs)\n",
      "time cost in gaussFit_spec2D: 0.08473801612854004 (secs)\n"
     ]
    },
    {
     "data": {
      "text/plain": [
       "Text(0.5, 0.98, 'g1=0.05 | g2=0.05 | sini=0.5')"
      ]
     },
     "execution_count": 13,
     "metadata": {},
     "output_type": "execute_result"
    },
    {
     "data": {
      "image/png": "[encoded data removed]",
      "text/plain": [
       "<Figure size 1008x360 with 4 Axes>"
      ]
     },
     "metadata": {
      "image/png": {
       "height": 361,
       "width": 849
      },
      "needs_background": "light"
     },
     "output_type": "display_data"
    }
   ],
   "source": [
    "\n",
    "# get pixel edges\n",
    "lambda_min = np.min(GM.RotFit.lambdaGrid)  ; lambda_MAX = np.max(GM.RotFit.lambdaGrid)\n",
    "x_min = np.min(GM.RotFit.spaceGrid)        ; x_MAX = np.max(GM.RotFit.spaceGrid)\n",
    "\n",
    "lambda_emit = GM.RotFit.lambda_emit\n",
    "lambdaGrid, spaceGrid = GM.RotFit.lambdaGrid, GM.RotFit.spaceGrid\n",
    "\n",
    "############\n",
    "\n",
    "fig,ax = plt.subplots(1,2,figsize=(14,5))\n",
    "plt.rc('font',size=16)\n",
    "\n",
    "img0=ax[0].imshow(data_info['spec'][0].T, extent=[x_min, x_MAX, lambda_min, lambda_MAX ], aspect='auto',cmap='Greys', origin=\"lower\")\n",
    "img1=ax[1].imshow(data_info['spec'][1].T, extent=[x_min, x_MAX, lambda_min, lambda_MAX ], aspect='auto',cmap='Greys', origin=\"lower\")\n",
    "fig.colorbar(img0, ax=ax[0])\n",
    "fig.colorbar(img1, ax=ax[1])\n",
    "\n",
    "## measured summary statstics\n",
    "\n",
    "for IDsp in range(2):\n",
    "    GaussFit = GaussFit_signle(spec2D=data_info['spec'][IDsp], lambda_emit=lambda_emit, lambdaGrid=lambdaGrid, spaceGrid=spaceGrid)\n",
    "    peakLambda, amp, sigma = GaussFit.gaussFit_spec2D(spec2D=data_info['spec'][IDsp])\n",
    "    peakLambdaG, ampG, sigmaG, spaceGridG = GM.RotFit._remove_0signal_grid(peakLambda, amp, sigma, threshold_SN=1e-10)\n",
    "    jump = 4\n",
    "    ax[IDsp].errorbar(spaceGrid[0::jump], peakLambda[0::jump], sigma[0::jump] ,color='yellow', marker='o', markersize=2,ls='none')\n",
    "    ax[IDsp].errorbar(spaceGridG[0::jump], peakLambdaG[0::jump], sigmaG[0::jump] ,color='orange', marker='o', markersize=3,ls='none',label='summary stat.')\n",
    "############\n",
    "\n",
    "## fiducial rotation curve\n",
    "\n",
    "for IDsp in range(2):\n",
    "    fidicual_rot = GM.RotFit.model_arctan_rotation(r=spaceGrid, \\\n",
    "                                                   vcirc=GM.par_fid['vcirc'], sini=GM.par_fid['sini'], \\\n",
    "                                                   vscale=GM.par_fid['vscale'], r_0=GM.par_fid['r_0'], v_0=GM.par_fid['v_0'], \\\n",
    "                                                   g1=GM.par_fid['g1'], g2=GM.par_fid['g2'], \\\n",
    "                                                   theta_int=GM.par_fid['theta_int'], redshift=GM.par_fid['redshift'], \\\n",
    "                                                   slitAngle=GM.par_fid['slitAngles'][IDsp])\n",
    "    \n",
    "    ax[IDsp].plot(spaceGrid,fidicual_rot,color='r',ls='-',label='rot. at fid.', zorder=10)\n",
    "\n",
    "#ax[0].plot(GM.RotFit.spec_stats[0]['spaceGrid'],model_major,color='b',ls=':',label='fiducial rot.', zorder=10)\n",
    "#ax[1].plot(GM.RotFit.spec_stats[1]['spaceGrid'],model_minor,color='b',ls=':',label='fiducial rot.', zorder=10)    \n",
    "\n",
    "\n",
    "## par_in rotation curve\n",
    "\n",
    "for IDsp in range(2):\n",
    "    ax[IDsp].plot(GM.RotFit.spec_stats[IDsp]['spaceGrid'],rot_curve_out[IDsp],color='b',ls='--',label='rot. at ML', zorder=10)\n",
    "    \n",
    "\n",
    "###############\n",
    "\n",
    "lambda_cen = data_info['lambda_emit']*(1.+data_info['par_fid']['redshift'])\n",
    "\n",
    "for j in range(2):\n",
    "    ax[j].axhline(lambda_cen, color='lightgray')\n",
    "    ax[j].set_xlabel('position', fontsize=15)\n",
    "    \n",
    "    x_width=7\n",
    "    ax[j].set_xlim(-x_width,x_width)\n",
    "    \n",
    "    y_width=1\n",
    "    ax[j].set_ylim(lambda_cen-y_width,lambda_cen+y_width)\n",
    "    \n",
    "    slitAng_i = pars['slitAngles'][j]*180./np.pi\n",
    "    ax[j].set_title( f'slitAng:{slitAng_i:.1f}'+'$^{\\circ}$' )\n",
    "    \n",
    "    ax[j].legend(loc=\"best\",prop={'size':14})\n",
    "\n",
    "\n",
    "g1=pars['g1']\n",
    "g2=pars['g2']\n",
    "sini=pars['sini']\n",
    "\n",
    "fig.suptitle(f'g1={g1:.2f} | g2={g2:.2f} | sini={sini:.1f}')"
   ]
  },
  {
   "cell_type": "code",
   "execution_count": null,
   "metadata": {},
   "outputs": [],
   "source": []
  },
  {
   "cell_type": "code",
   "execution_count": null,
   "metadata": {},
   "outputs": [],
   "source": []
  },
  {
   "cell_type": "markdown",
   "metadata": {},
   "source": [
    "# =========== END ==========="
   ]
  },
  {
   "cell_type": "code",
   "execution_count": null,
   "metadata": {},
   "outputs": [],
   "source": []
  },
  {
   "cell_type": "code",
   "execution_count": 65,
   "metadata": {},
   "outputs": [
    {
     "data": {
      "text/plain": [
       "656.461"
      ]
     },
     "execution_count": 65,
     "metadata": {},
     "output_type": "execute_result"
    }
   ],
   "source": [
    "GM.RotFit.lambda_emit"
   ]
  },
  {
   "cell_type": "code",
   "execution_count": 66,
   "metadata": {},
   "outputs": [],
   "source": [
    "def getPhi_faceOn(theta, sini):\n",
    "\n",
    "    if sini == 1 or sini == -1: # disk is edge on.\n",
    "        phi = np.pi\n",
    "        return phi\n",
    "    else:\n",
    "        cosi = np.sqrt(1-sini**2)\n",
    "        phi = np.arctan2(np.tan(theta), cosi)\n",
    "        return phi\n",
    "    \n",
    "def getTheta_0shear(g1, g2, slitAngle):\n",
    "\n",
    "    tan_slitAng = np.tan(slitAngle)\n",
    "    theta_0shear = np.arctan2(-g2+(1+g1)*tan_slitAng, (1-g1)-g2*tan_slitAng)\n",
    "\n",
    "    return theta_0shear\n",
    "    \n",
    "def model_arctan_rotation(r, vcirc, sini, vscale, r_0, v_0, g1, g2, theta_int, redshift, slitAngle):\n",
    "    lambda_emit = 656.461\n",
    "    theta_0shear = getTheta_0shear(g1=g1, g2=g2, slitAngle=slitAngle)\n",
    "    theta_0rotate = theta_0shear - theta_int\n",
    "    phi = getPhi_faceOn(theta=theta_0rotate, sini=sini)\n",
    "\n",
    "    if (theta_0rotate > 1.5707963267948966) or (theta_0rotate < 0.):\n",
    "        R = np.flip(r)\n",
    "    else :\n",
    "        R = r\n",
    "\n",
    "    peak_V = v_0 + 2/np.pi * vcirc * sini * np.cos(phi) * np.arctan((R - r_0)/vscale)\n",
    "    model_lambda = velocity_to_lambda(v_peculiar=peak_V, lambda_emit=lambda_emit, redshift=redshift)\n",
    "\n",
    "    return model_lambda"
   ]
  },
  {
   "cell_type": "code",
   "execution_count": 67,
   "metadata": {},
   "outputs": [],
   "source": [
    "g1=0.\n",
    "g2=0.\n",
    "sini=0.99\n",
    "slitAngle=0.; vcirc = 200. ; vscale=0.5 ; r_0=0. ; v_0=0. ; redshift=0.2 ; theta_int=0."
   ]
  },
  {
   "cell_type": "code",
   "execution_count": 68,
   "metadata": {},
   "outputs": [
    {
     "data": {
      "text/plain": [
       "0.0"
      ]
     },
     "execution_count": 68,
     "metadata": {},
     "output_type": "execute_result"
    }
   ],
   "source": [
    "theta_0shear = getTheta_0shear(g1=g1, g2=g2, slitAngle=slitAngle)\n",
    "theta_0shear"
   ]
  },
  {
   "cell_type": "code",
   "execution_count": 69,
   "metadata": {},
   "outputs": [
    {
     "data": {
      "text/plain": [
       "0.0"
      ]
     },
     "execution_count": 69,
     "metadata": {},
     "output_type": "execute_result"
    }
   ],
   "source": [
    "theta_0rotate = theta_0shear - theta_int\n",
    "theta_0rotate"
   ]
  },
  {
   "cell_type": "code",
   "execution_count": 70,
   "metadata": {},
   "outputs": [
    {
     "data": {
      "text/plain": [
       "0.0"
      ]
     },
     "execution_count": 70,
     "metadata": {},
     "output_type": "execute_result"
    }
   ],
   "source": [
    "phi = getPhi_faceOn(theta=theta_0rotate, sini=sini)\n",
    "phi"
   ]
  },
  {
   "cell_type": "code",
   "execution_count": 71,
   "metadata": {},
   "outputs": [
    {
     "data": {
      "text/plain": [
       "190.13206437500585"
      ]
     },
     "execution_count": 71,
     "metadata": {},
     "output_type": "execute_result"
    }
   ],
   "source": [
    "R = 8.\n",
    "peak_V = v_0 + 2./np.pi * vcirc * sini * np.cos(phi) * np.arctan((R - r_0)/vscale)\n",
    "peak_V"
   ]
  },
  {
   "cell_type": "code",
   "execution_count": 72,
   "metadata": {},
   "outputs": [
    {
     "data": {
      "text/plain": [
       "788.2528027689731"
      ]
     },
     "execution_count": 72,
     "metadata": {},
     "output_type": "execute_result"
    }
   ],
   "source": [
    "model_lambda = velocity_to_lambda(v_peculiar=peak_V, lambda_emit=lambda_emit, redshift=redshift)\n",
    "model_lambda"
   ]
  },
  {
   "cell_type": "code",
   "execution_count": null,
   "metadata": {},
   "outputs": [],
   "source": []
  },
  {
   "cell_type": "code",
   "execution_count": null,
   "metadata": {},
   "outputs": [],
   "source": []
  },
  {
   "cell_type": "code",
   "execution_count": null,
   "metadata": {},
   "outputs": [],
   "source": []
  },
  {
   "cell_type": "code",
   "execution_count": 40,
   "metadata": {},
   "outputs": [],
   "source": [
    "    def _getXY_0shear(X, Y, A):\n",
    "        A_inv = np.linalg.inv(A)\n",
    "        X_0shear = X*A_inv[0, 0] + Y*A_inv[0, 1]\n",
    "        Y_0shear = X*A_inv[1, 0] + Y*A_inv[1, 1]\n",
    "        return X_0shear, Y_0shear\n",
    "    \n",
    "    def _getXY_0rotate(X, Y, theta_int):\n",
    "        X_0rotate = X*np.cos(theta_int) + Y*np.sin(theta_int)\n",
    "        Y_0rotate = -X*np.sin(theta_int) + Y*np.cos(theta_int)\n",
    "        return X_0rotate, Y_0rotate\n",
    "    \n",
    "    def _getR_faceOn(X, Y, cosi):\n",
    "        Y_faceOn = Y/cosi\n",
    "        X_faceOn = X\n",
    "        R_faceOn = np.sqrt(X_faceOn**2+Y_faceOn**2)\n",
    "        return R_faceOn\n",
    "\n",
    "    def _getPhi_faceOn(THETA, sini):\n",
    "        # This is re-assigning angles in the image plane according to the true inclination of the disk.\n",
    "        if sini==1 or sini==-1:\n",
    "            Phi = np.zeros((pars['ngrid'], pars['ngrid']))\n",
    "            half_ngrid = int(pars['ngrid']/2)\n",
    "            Phi[:, :half_ngrid] = np.pi\n",
    "            return Phi\n",
    "        else:\n",
    "            cosi = np.sqrt(1-sini**2)\n",
    "            Phi = np.arctan2(np.sin(THETA)/cosi, np.cos(THETA))\n",
    "            return Phi\n",
    "\n",
    "    def getVmap(vcirc, sini, g1, g2, vscale, v_0, r_0, theta_int):\n",
    "        A = np.array([ [1+g1, g2], [g2, 1-g1] ])\n",
    "        \n",
    "        # add shear in the velocity field\n",
    "        X_0shear, Y_0shear = _getXY_0shear(X=X, Y=Y, A=A)\n",
    "        X_0rotate, Y_0rotate = _getXY_0rotate(X=X_0shear, Y=Y_0shear, theta_int=theta_int)\n",
    "        THETA = np.angle(X_0rotate+1j*Y_0rotate)\n",
    "\n",
    "        R = _getR_faceOn(X=Y_0rotate, Y=Y_0rotate, cosi=cosi)\n",
    "        PHI = _getPhi_faceOn(THETA=THETA, sini=sini)\n",
    "\n",
    "        V = v_0 + 2./np.pi * vcirc * sini * np.cos(PHI) * np.arctan((R-r_0)/vscale) \n",
    "        return V"
   ]
  },
  {
   "cell_type": "code",
   "execution_count": null,
   "metadata": {},
   "outputs": [],
   "source": []
  }
 ],
 "metadata": {
  "kernelspec": {
   "display_name": "Python 3",
   "language": "python",
   "name": "python3"
  },
  "language_info": {
   "codemirror_mode": {
    "name": "ipython",
    "version": 3
   },
   "file_extension": ".py",
   "mimetype": "text/x-python",
   "name": "python",
   "nbconvert_exporter": "python",
   "pygments_lexer": "ipython3",
   "version": "3.7.4"
  }
 },
 "nbformat": 4,
 "nbformat_minor": 2
}
