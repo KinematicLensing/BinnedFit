{
 "cells": [
  {
   "cell_type": "code",
   "execution_count": 1,
   "metadata": {},
   "outputs": [],
   "source": [
    "import numpy as np"
   ]
  },
  {
   "cell_type": "code",
   "execution_count": 12,
   "metadata": {},
   "outputs": [],
   "source": [
    "cosi = np.random.uniform(low=0, high=1, size=10000)\n",
    "sini = np.sqrt(1-cosi**2)"
   ]
  },
  {
   "cell_type": "code",
   "execution_count": 13,
   "metadata": {},
   "outputs": [
    {
     "name": "stdout",
     "output_type": "stream",
     "text": [
      "Populating the interactive namespace from numpy and matplotlib\n"
     ]
    }
   ],
   "source": [
    "%pylab inline"
   ]
  },
  {
   "cell_type": "code",
   "execution_count": 15,
   "metadata": {},
   "outputs": [
    {
     "data": {
      "text/plain": [
       "(array([   6.,    5.,    8.,   13.,   15.,   19.,   24.,   32.,   31.,\n",
       "          23.,   37.,   57.,   52.,   54.,   55.,   59.,   71.,   57.,\n",
       "          79.,   87.,   89.,   98.,  122.,  112.,  116.,  134.,  121.,\n",
       "         135.,  133.,  134.,  154.,  156.,  171.,  190.,  186.,  200.,\n",
       "         215.,  219.,  240.,  276.,  286.,  278.,  340.,  363.,  380.,\n",
       "         427.,  494.,  633.,  826., 1988.]),\n",
       " array([0.01064876, 0.03043579, 0.05022281, 0.07000984, 0.08979686,\n",
       "        0.10958389, 0.12937091, 0.14915793, 0.16894496, 0.18873198,\n",
       "        0.20851901, 0.22830603, 0.24809306, 0.26788008, 0.28766711,\n",
       "        0.30745413, 0.32724116, 0.34702818, 0.36681521, 0.38660223,\n",
       "        0.40638926, 0.42617628, 0.44596331, 0.46575033, 0.48553736,\n",
       "        0.50532438, 0.5251114 , 0.54489843, 0.56468545, 0.58447248,\n",
       "        0.6042595 , 0.62404653, 0.64383355, 0.66362058, 0.6834076 ,\n",
       "        0.70319463, 0.72298165, 0.74276868, 0.7625557 , 0.78234273,\n",
       "        0.80212975, 0.82191678, 0.8417038 , 0.86149083, 0.88127785,\n",
       "        0.90106487, 0.9208519 , 0.94063892, 0.96042595, 0.98021297,\n",
       "        1.        ]),\n",
       " <a list of 50 Patch objects>)"
      ]
     },
     "execution_count": 15,
     "metadata": {},
     "output_type": "execute_result"
    },
    {
     "data": {
      "image/png": "[encoded data removed]",
      "text/plain": [
       "<Figure size 432x288 with 1 Axes>"
      ]
     },
     "metadata": {
      "needs_background": "light"
     },
     "output_type": "display_data"
    }
   ],
   "source": [
    "plt.hist(sini,bins=50)\n",
    "#plt.hist(sini_2)"
   ]
  },
  {
   "cell_type": "code",
   "execution_count": 5,
   "metadata": {},
   "outputs": [],
   "source": [
    "?? plt.hist"
   ]
  },
  {
   "cell_type": "code",
   "execution_count": null,
   "metadata": {},
   "outputs": [],
   "source": []
  },
  {
   "cell_type": "code",
   "execution_count": null,
   "metadata": {},
   "outputs": [],
   "source": []
  }
 ],
 "metadata": {
  "kernelspec": {
   "display_name": "Python 3",
   "language": "python",
   "name": "python3"
  },
  "language_info": {
   "codemirror_mode": {
    "name": "ipython",
    "version": 3
   },
   "file_extension": ".py",
   "mimetype": "text/x-python",
   "name": "python",
   "nbconvert_exporter": "python",
   "pygments_lexer": "ipython3",
   "version": "3.7.4"
  }
 },
 "nbformat": 4,
 "nbformat_minor": 2
}
