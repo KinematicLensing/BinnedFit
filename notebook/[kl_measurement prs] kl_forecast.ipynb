{
 "cells": [
  {
   "cell_type": "code",
   "execution_count": 1,
   "metadata": {},
   "outputs": [
    {
     "name": "stdout",
     "output_type": "stream",
     "text": [
      "dir_tfCube: /Users/hhg/Research/kinematic_lensing/repo/KLens\n"
     ]
    }
   ],
   "source": [
    "import sys\n",
    "sys.path.append(\"/Users/hhg/Research/kinematic_lensing/repo/kl_measurement/scripts/\")\n",
    "\n",
    "from mcmc_two_step import return_estimates, get_fit_pars, get_data\n",
    "from generate_TFcube import get_TFcube_pars\n",
    "from chainconsumer import ChainConsumer\n",
    "import matplotlib.pyplot as plt\n",
    "import generate_TFcube as gen_TFcube\n",
    "import chisq as chisq\n",
    "import numpy as np"
   ]
  },
  {
   "cell_type": "code",
   "execution_count": null,
   "metadata": {},
   "outputs": [],
   "source": []
  },
  {
   "cell_type": "code",
   "execution_count": 2,
   "metadata": {},
   "outputs": [],
   "source": [
    "par_names = ['vcirc', 'vscale', 'sini', 'I0', 'bkg_level']\n",
    "update_TF, _ = get_TFcube_pars()\n",
    "update_TF['g1'] = 0.05\n",
    "\n",
    "update_TF['area'] = 3.14*(1000./2.)**2\n",
    "update_TF['throughput'] = 0.29\n",
    "# update_TF['slitWidth'] = 1.\n",
    "update_TF['psfFWHM'] = 0.5\n",
    "update_TF['pixScale'] = 0.1185\n",
    "\n",
    "update_TF['redshift'] = 0.5\n",
    "update_TF['Resolution'] = 6000.\n",
    "update_TF['nm_per_pixel'] = 0.033\n",
    "update_TF['expTime'] = 3600.\n",
    "update_TF['linelist']['flux'][update_TF['linelist']['species'] == 'OIIb'] = 0.\n",
    "update_TF['lambda_min'] = (1 + update_TF['redshift']) * update_TF['linelist']['lambda'][update_TF['linelist']['species'] == 'OIIa'] - 2\n",
    "update_TF['lambda_max'] = (1 + update_TF['redshift']) * update_TF['linelist']['lambda'][update_TF['linelist']['species'] == 'OIIa'] + 2\n",
    "\n",
    "TF_pars, meta_parameters = get_TFcube_pars(update_TF)"
   ]
  },
  {
   "cell_type": "code",
   "execution_count": 3,
   "metadata": {},
   "outputs": [
    {
     "data": {
      "text/plain": [
       "{'g1': 0.05,\n",
       " 'g2': 0.0,\n",
       " 'sini': 0.5,\n",
       " 'diskFrac': 1.0,\n",
       " 'n_knots': 25,\n",
       " 'knot_fraction': 0.0,\n",
       " 'aspect': 0.2,\n",
       " 'vcirc': 200.0,\n",
       " 'sigma_intr': 0.01,\n",
       " 'redshift': 0.5,\n",
       " 'half_light_radius': 0.5,\n",
       " 'vscale': 0.5,\n",
       " 'r_0': 0.0,\n",
       " 'V_0': 0.0,\n",
       " 'linelist': array([('OIIa', 372.7092, 2.e-25), ('OIIb', 372.9875, 0.e+00),\n",
       "        ('OIIIa', 496.0295, 2.e-25), ('OIIIb', 500.824 , 2.e-25),\n",
       "        ('Halpha', 656.461 , 6.e-24)],\n",
       "       dtype=[('species', '<U16'), ('lambda', '<f8'), ('flux', '<f8')]),\n",
       " 'norm': 6e-24,\n",
       " 'abs_magnitude': None,\n",
       " 'image_size': 128,\n",
       " 'ngrid': 256,\n",
       " 'psfFWHM': 0.5,\n",
       " 'psf_g1': 0.0,\n",
       " 'psf_g2': 0.0,\n",
       " 'area': 785000.0,\n",
       " 'pixScale': 0.1185,\n",
       " 'Resolution': 6000.0,\n",
       " 'lambda_min': array([557.0638]),\n",
       " 'lambda_max': array([561.0638]),\n",
       " 'nm_per_pixel': 0.033,\n",
       " 'gain': 1.0,\n",
       " 'read_noise': 3.0,\n",
       " 'throughput': 0.29,\n",
       " 'expTime': 3600.0,\n",
       " 'type_of_observation': 'slit',\n",
       " 'fiber_size': 1.0,\n",
       " 'fiber_offsets': [[0.0, 0.0],\n",
       "  [1.0, 0.0],\n",
       "  [-1.0, 0.0],\n",
       "  [0.0, 1.0],\n",
       "  [1.0, 1.0]],\n",
       " 'slitAngles': array([0.]),\n",
       " 'slitWidth': 0.05,\n",
       " 'offset_x': 0,\n",
       " 'offset_y': 0}"
      ]
     },
     "execution_count": 3,
     "metadata": {},
     "output_type": "execute_result"
    }
   ],
   "source": [
    "TF_pars"
   ]
  },
  {
   "cell_type": "code",
   "execution_count": 4,
   "metadata": {},
   "outputs": [
    {
     "name": "stdout",
     "output_type": "stream",
     "text": [
      "returning:\n",
      "lambda, observation, model, sky (the last three are (npix, npix, nspax) datacubes)\n"
     ]
    }
   ],
   "source": [
    "data, noise, obslambda = gen_TFcube.get_data_TFcube(TF_pars, meta_parameters, return_lambda=True)"
   ]
  },
  {
   "cell_type": "code",
   "execution_count": null,
   "metadata": {},
   "outputs": [],
   "source": []
  },
  {
   "cell_type": "code",
   "execution_count": 5,
   "metadata": {},
   "outputs": [
    {
     "data": {
      "text/plain": [
       "<matplotlib.image.AxesImage at 0x7fb010477090>"
      ]
     },
     "execution_count": 5,
     "metadata": {},
     "output_type": "execute_result"
    },
    {
     "data": {
      "image/png": "[encoded data removed]",
      "text/plain": [
       "<Figure size 432x288 with 1 Axes>"
      ]
     },
     "metadata": {
      "needs_background": "light"
     },
     "output_type": "display_data"
    }
   ],
   "source": [
    "plt.imshow(data['spectra'][0])"
   ]
  },
  {
   "cell_type": "code",
   "execution_count": null,
   "metadata": {},
   "outputs": [],
   "source": []
  },
  {
   "cell_type": "code",
   "execution_count": 6,
   "metadata": {},
   "outputs": [
    {
     "name": "stdout",
     "output_type": "stream",
     "text": [
      "559.0638\n",
      "559.48125\n",
      "744.0442499999999\n",
      "751.236\n",
      "984.6915\n"
     ]
    }
   ],
   "source": [
    "lines = TF_pars['linelist']\n",
    "for line in lines:\n",
    "    print(line['lambda']*(1+TF_pars['redshift']))\n"
   ]
  },
  {
   "cell_type": "code",
   "execution_count": 7,
   "metadata": {},
   "outputs": [
    {
     "data": {
      "text/plain": [
       "array([559.0638])"
      ]
     },
     "execution_count": 7,
     "metadata": {},
     "output_type": "execute_result"
    }
   ],
   "source": [
    "(1 + update_TF['redshift']) * update_TF['linelist']['lambda'][update_TF['linelist']['species'] == 'OIIa']"
   ]
  },
  {
   "cell_type": "code",
   "execution_count": 8,
   "metadata": {},
   "outputs": [
    {
     "data": {
      "text/plain": [
       "array([557.0638, 557.0968, 557.1298, 557.1628, 557.1958, 557.2288,\n",
       "       557.2618, 557.2948, 557.3278, 557.3608, 557.3938, 557.4268,\n",
       "       557.4598, 557.4928, 557.5258, 557.5588, 557.5918, 557.6248,\n",
       "       557.6578, 557.6908, 557.7238, 557.7568, 557.7898, 557.8228,\n",
       "       557.8558, 557.8888, 557.9218, 557.9548, 557.9878, 558.0208,\n",
       "       558.0538, 558.0868, 558.1198, 558.1528, 558.1858, 558.2188,\n",
       "       558.2518, 558.2848, 558.3178, 558.3508, 558.3838, 558.4168,\n",
       "       558.4498, 558.4828, 558.5158, 558.5488, 558.5818, 558.6148,\n",
       "       558.6478, 558.6808, 558.7138, 558.7468, 558.7798, 558.8128,\n",
       "       558.8458, 558.8788, 558.9118, 558.9448, 558.9778, 559.0108,\n",
       "       559.0438, 559.0768, 559.1098, 559.1428, 559.1758, 559.2088,\n",
       "       559.2418, 559.2748, 559.3078, 559.3408, 559.3738, 559.4068,\n",
       "       559.4398, 559.4728, 559.5058, 559.5388, 559.5718, 559.6048,\n",
       "       559.6378, 559.6708, 559.7038, 559.7368, 559.7698, 559.8028,\n",
       "       559.8358, 559.8688, 559.9018, 559.9348, 559.9678, 560.0008,\n",
       "       560.0338, 560.0668, 560.0998, 560.1328, 560.1658, 560.1988,\n",
       "       560.2318, 560.2648, 560.2978, 560.3308, 560.3638, 560.3968,\n",
       "       560.4298, 560.4628, 560.4958, 560.5288, 560.5618, 560.5948,\n",
       "       560.6278, 560.6608, 560.6938, 560.7268, 560.7598, 560.7928,\n",
       "       560.8258, 560.8588, 560.8918, 560.9248, 560.9578, 560.9908,\n",
       "       561.0238, 561.0568])"
      ]
     },
     "execution_count": 8,
     "metadata": {},
     "output_type": "execute_result"
    }
   ],
   "source": [
    "obslambda"
   ]
  },
  {
   "cell_type": "code",
   "execution_count": 9,
   "metadata": {},
   "outputs": [
    {
     "name": "stdout",
     "output_type": "stream",
     "text": [
      "returning:\n",
      "lambda, observation, model, sky (the last three are (npix, npix, nspax) datacubes)\n"
     ]
    },
    {
     "name": "stderr",
     "output_type": "stream",
     "text": [
      "/Users/hhg/opt/anaconda3/lib/python3.7/site-packages/emcee/moves/red_blue.py:99: RuntimeWarning: invalid value encountered in double_scalars\n",
      "  lnpdiff = f + nlp - state.log_prob[j]\n",
      "WARNING:chainconsumer:Parameter sini in chain Chain 0 is not constrained\n",
      "WARNING:chainconsumer:Parameter vscale in chain Chain 0 is not constrained\n"
     ]
    }
   ],
   "source": [
    "chisq_parameters = chisq.get_default_parameters()\n",
    "chisq_parameters['redshift'] = 0.4\n",
    "chisq_parameters['central_wavelength'] = TF_pars['linelist']['lambda'][TF_pars['linelist']['species'] == 'OIIa'][0]\n",
    "chisq_parameters['Resolution'] = 6000.\n",
    "data, noise = get_data(TF_pars, meta_parameters)\n",
    "\n",
    "true_pars = dict((i, TF_pars.get(i, '')) for i in par_names)\n",
    "\n",
    "summary, chain = return_estimates(TF_pars, meta_parameters, par_names, chisq_parameters, data, noise, return_chain=True)\n",
    "\n",
    "# second chain with different sigma_TF_intr\n",
    "chisq_parameters['sigma_TF_intr'] = 100\n",
    "summary_100, chain_100 = return_estimates(TF_pars, meta_parameters, par_names, chisq_parameters, data, noise, return_chain=True)"
   ]
  },
  {
   "cell_type": "code",
   "execution_count": 10,
   "metadata": {},
   "outputs": [],
   "source": [
    "def get_vsini(samples):\n",
    "    vsini = samples[:, par_names.index('vcirc')+1]*samples[:, par_names.index('sini')+1]\n",
    "    new_samples = np.column_stack((samples[:,0], vsini))\n",
    "    return new_samples\n",
    "\n",
    "\n",
    "new_chain = get_vsini(chain)\n",
    "new_chain_100 = get_vsini(chain_100)"
   ]
  },
  {
   "cell_type": "code",
   "execution_count": null,
   "metadata": {},
   "outputs": [],
   "source": [
    "c = ChainConsumer().add_chain(new_chain_100, parameters=['$\\gamma$', 'vsini'], color='g', name='sigma_TF=100')\n",
    "c.add_chain(new_chain, parameters=['$\\gamma$', 'vsini'], color='b', name='sigma_TF=0.5').configure(statistics=\"max\", usetex=False)\n",
    "fig = c.plotter.plot(truth=[TF_pars['g1'], TF_pars['vcirc']*TF_pars['sini']], extents=[(-.05, .2)])# filename='shear_constraints_400.pdf')\n",
    "fig.set_size_inches(3 + fig.get_size_inches())  # Resize fig for doco. You don't need this."
   ]
  },
  {
   "cell_type": "code",
   "execution_count": null,
   "metadata": {},
   "outputs": [],
   "source": [
    "c = ChainConsumer().add_chain(chain, parameters=['$\\gamma$', 'vcirc', 'vscale', 'sini'], color='b', name='sigma_TF=0.5')\n",
    "fig = c.plotter.plot(truth=[TF_pars['g1']], extents=[(-.05, .2)])# filename='shear_constraints_400.pdf')\n",
    "fig.set_size_inches(3 + fig.get_size_inches())  # Resize fig for doco. You don't need this."
   ]
  },
  {
   "cell_type": "code",
   "execution_count": null,
   "metadata": {},
   "outputs": [],
   "source": []
  },
  {
   "cell_type": "code",
   "execution_count": 11,
   "metadata": {},
   "outputs": [
    {
     "data": {
      "text/plain": [
       "{'g1': 0.05,\n",
       " 'g2': 0.0,\n",
       " 'sini': 0.5,\n",
       " 'diskFrac': 1.0,\n",
       " 'n_knots': 25,\n",
       " 'knot_fraction': 0.0,\n",
       " 'aspect': 0.2,\n",
       " 'vcirc': 200.0,\n",
       " 'sigma_intr': 0.01,\n",
       " 'redshift': 0.5,\n",
       " 'half_light_radius': 0.5,\n",
       " 'vscale': 0.5,\n",
       " 'r_0': 0.0,\n",
       " 'V_0': 0.0,\n",
       " 'linelist': array([('OIIa', 372.7092, 2.e-25), ('OIIb', 372.9875, 0.e+00),\n",
       "        ('OIIIa', 496.0295, 2.e-25), ('OIIIb', 500.824 , 2.e-25),\n",
       "        ('Halpha', 656.461 , 6.e-24)],\n",
       "       dtype=[('species', '<U16'), ('lambda', '<f8'), ('flux', '<f8')]),\n",
       " 'norm': 6e-24,\n",
       " 'abs_magnitude': None,\n",
       " 'image_size': 128,\n",
       " 'ngrid': 256,\n",
       " 'psfFWHM': 0.5,\n",
       " 'psf_g1': 0.0,\n",
       " 'psf_g2': 0.0,\n",
       " 'area': 785000.0,\n",
       " 'pixScale': 0.1185,\n",
       " 'Resolution': 6000.0,\n",
       " 'lambda_min': array([557.0638]),\n",
       " 'lambda_max': array([561.0638]),\n",
       " 'nm_per_pixel': 0.033,\n",
       " 'gain': 1.0,\n",
       " 'read_noise': 3.0,\n",
       " 'throughput': 0.29,\n",
       " 'expTime': 3600.0,\n",
       " 'type_of_observation': 'slit',\n",
       " 'fiber_size': 1.0,\n",
       " 'fiber_offsets': [[0.0, 0.0],\n",
       "  [1.0, 0.0],\n",
       "  [-1.0, 0.0],\n",
       "  [0.0, 1.0],\n",
       "  [1.0, 1.0]],\n",
       " 'slitAngles': array([0.]),\n",
       " 'slitWidth': 0.05,\n",
       " 'offset_x': 0,\n",
       " 'offset_y': 0}"
      ]
     },
     "execution_count": 11,
     "metadata": {},
     "output_type": "execute_result"
    }
   ],
   "source": [
    "TF_pars"
   ]
  },
  {
   "cell_type": "code",
   "execution_count": 12,
   "metadata": {},
   "outputs": [
    {
     "name": "stdout",
     "output_type": "stream",
     "text": [
      "redshift\n",
      "vcirc\n",
      "vscale\n",
      "sini\n",
      "psfFWHM\n",
      "g1\n"
     ]
    }
   ],
   "source": [
    "for key in chisq_parameters.keys():\n",
    "    if key in TF_pars.keys():\n",
    "        if chisq_parameters[key] != TF_pars[key]:\n",
    "            print(key)"
   ]
  },
  {
   "cell_type": "code",
   "execution_count": null,
   "metadata": {},
   "outputs": [],
   "source": []
  }
 ],
 "metadata": {
  "kernelspec": {
   "display_name": "Python 3",
   "language": "python",
   "name": "python3"
  },
  "language_info": {
   "codemirror_mode": {
    "name": "ipython",
    "version": 3
   },
   "file_extension": ".py",
   "mimetype": "text/x-python",
   "name": "python",
   "nbconvert_exporter": "python",
   "pygments_lexer": "ipython3",
   "version": "3.7.4"
  }
 },
 "nbformat": 4,
 "nbformat_minor": 2
}
