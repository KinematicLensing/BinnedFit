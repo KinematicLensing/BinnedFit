{
 "cells": [
  {
   "cell_type": "code",
   "execution_count": 1,
   "metadata": {},
   "outputs": [],
   "source": [
    "import sys\n",
    "sys.path.append(\"/Users/hhg/Research/kinematic_lensing/code/BinnedFit/\")\n",
    "import time"
   ]
  },
  {
   "cell_type": "code",
   "execution_count": 2,
   "metadata": {},
   "outputs": [],
   "source": [
    "import numpy as np\n",
    "import os\n",
    "import copy\n",
    "from astropy.io import fits\n",
    "import galsim\n",
    "from scipy.interpolate import interp1d\n",
    "from scipy.ndimage.interpolation import rotate\n",
    "import tfCube\n",
    "import matplotlib as mpl\n",
    "import matplotlib.pyplot as plt\n",
    "from mpl_toolkits.axes_grid1 import make_axes_locatable\n",
    "from matplotlib.backends.backend_pdf import PdfPages"
   ]
  },
  {
   "cell_type": "code",
   "execution_count": 3,
   "metadata": {},
   "outputs": [],
   "source": [
    "pars = tfCube.getParams(redshift = 0.2)\n",
    "pars['type_of_observation'] = 'slit'\n",
    "# to make things practical during testing, increase the spaxel size.\n",
    "pars['g1'] = 0.0\n",
    "pars['g2'] = 0.0\n",
    "pars['nm_per_pixel'] = 0.025\n",
    "pars['expTime'] = 10000.\n",
    "pars['pixScale'] = 0.032\n",
    "pars['Resolution'] = 5000\n",
    "pars['sini'] = 1.\n",
    "pars['aspect'] = 0.2\n",
    "pars['vcirc'] = 200.\n",
    "pars['area'] = 3.14*(1000./2.)**2\n",
    "pars['linelist']['flux'][pars['linelist']['species'] == 'Halpha'] = 6e-24\n",
    "pars['norm'] = 1e-26\n",
    "pars['lambda_min'] = (1 + pars['redshift']) * pars['linelist']['lambda'][pars['linelist']['species'] == 'Halpha'] - 2\n",
    "pars['lambda_max'] = (1 + pars['redshift']) * pars['linelist']['lambda'][pars['linelist']['species'] == 'Halpha'] + 2\n",
    "\n",
    "pars['knot_fraction']=0.\n",
    "\n",
    "lines = pars['linelist']\n",
    "pars['half_light_radius'] = 0.5\n",
    "\n",
    "pars['slitAngles'] = np.array([0.])#np.linspace(-np.pi/4., np.pi/2., 3)\n",
    "pars['slitWidth']  = 0.1\n",
    "pars['slitOffset'] = 0.0\n",
    "# define some fiber parameters\n",
    "#nfiber = 5\n",
    "#r_off = 1.5\n",
    "pars['fiber_size'] = 1.0\n",
    "pars['psfFWHM'] = .25\n",
    "pars['vscale'] = pars['half_light_radius']\n",
    "pars['ngrid'] = 256\n",
    "pars['image_size'] = 128\n",
    "\n",
    "extent =  pars['image_size'] * pars['pixScale']\n",
    "subGridPixScale = extent*1./pars['ngrid']\n",
    "\n",
    "# turned off continuum\n",
    "pars['add_continuum']=0"
   ]
  },
  {
   "cell_type": "code",
   "execution_count": 4,
   "metadata": {},
   "outputs": [
    {
     "data": {
      "text/plain": [
       "array([2.e-25, 2.e-25, 2.e-25, 2.e-25, 6.e-24])"
      ]
     },
     "execution_count": 4,
     "metadata": {},
     "output_type": "execute_result"
    }
   ],
   "source": [
    "lines['flux']"
   ]
  },
  {
   "cell_type": "code",
   "execution_count": 4,
   "metadata": {},
   "outputs": [
    {
     "name": "stdout",
     "output_type": "stream",
     "text": [
      "returning:\n",
      "lambda, observation, model, sky (the last three are (npix, npix, nspax) datacubes)\n",
      "total time cost: 4.838227987289429 (sec)\n"
     ]
    }
   ],
   "source": [
    "starting_time = time.time()\n",
    "\n",
    "aperture = galsim.Image(pars['ngrid'], pars['ngrid'],scale=subGridPixScale)\n",
    "obsLambda, obsGrid, modelGrid, skyGrid = tfCube.getTFcube(pars,aperture,[0.,0.])\n",
    "\n",
    "print(\"total time cost:\",time.time()-starting_time,\"(sec)\")"
   ]
  },
  {
   "cell_type": "code",
   "execution_count": 5,
   "metadata": {},
   "outputs": [
    {
     "data": {
      "text/plain": [
       "(256, 160)"
      ]
     },
     "execution_count": 5,
     "metadata": {},
     "output_type": "execute_result"
    }
   ],
   "source": [
    "pars['slitOffset'] = 0.0\n",
    "pars['slitWidth']  = 0.1\n",
    "data0 = tfCube.getSlitSpectra(data=modelGrid,pars=pars)\n",
    "data0 = data0[0]\n",
    "data0.shape"
   ]
  },
  {
   "cell_type": "code",
   "execution_count": 6,
   "metadata": {},
   "outputs": [],
   "source": [
    "saveDir = \"/Users/hhg/Research/kinematic_lensing/code/BinnedFit/notebook/data/\"\n",
    "fname_out = \"mock2DSpec_sini{:.1f}_sW{:.1f}_sOff{:.1f}.npy\".format(pars['sini'],pars['slitWidth'],pars['slitOffset'])\n",
    "np.save(saveDir+fname_out,data0)"
   ]
  },
  {
   "cell_type": "code",
   "execution_count": 7,
   "metadata": {},
   "outputs": [],
   "source": [
    "np.save(saveDir+'obsLambda.npy',obsLambda)"
   ]
  },
  {
   "cell_type": "code",
   "execution_count": 8,
   "metadata": {},
   "outputs": [
    {
     "data": {
      "text/plain": [
       "4.096"
      ]
     },
     "execution_count": 8,
     "metadata": {},
     "output_type": "execute_result"
    }
   ],
   "source": [
    "extent"
   ]
  },
  {
   "cell_type": "code",
   "execution_count": 9,
   "metadata": {},
   "outputs": [
    {
     "data": {
      "text/plain": [
       "0.016"
      ]
     },
     "execution_count": 9,
     "metadata": {},
     "output_type": "execute_result"
    }
   ],
   "source": [
    "subGridPixScale"
   ]
  },
  {
   "cell_type": "markdown",
   "metadata": {},
   "source": [
    "## plot mock data"
   ]
  },
  {
   "cell_type": "code",
   "execution_count": 10,
   "metadata": {},
   "outputs": [],
   "source": [
    "data0 = np.load(saveDir+fname_out)"
   ]
  },
  {
   "cell_type": "code",
   "execution_count": 11,
   "metadata": {},
   "outputs": [],
   "source": [
    "%run /Users/hhg/Research/kinematic_lensing/code/BinnedFit/binnedFit_utilities.py\n",
    "\n",
    "lambda0 = 656.461\n",
    "redshift = 0.2\n",
    "v_obs = lambda_to_velocity(lambda0,redshift,obsLambda) ; v_min = np.min(v_obs) ; v_MAX=np.max(v_obs)\n",
    "\n",
    "extent = pars['image_size'] * pars['pixScale']\n",
    "subGridPixScale = extent*1./pars['ngrid']\n",
    "pos_grid = np.arange(-extent/2., extent/2., subGridPixScale) ; x_min=np.min(pos_grid) ; x_MAX=np.max(pos_grid)"
   ]
  },
  {
   "cell_type": "code",
   "execution_count": 12,
   "metadata": {},
   "outputs": [
    {
     "data": {
      "text/plain": [
       "(160,)"
      ]
     },
     "execution_count": 12,
     "metadata": {},
     "output_type": "execute_result"
    }
   ],
   "source": [
    "v_obs.shape"
   ]
  },
  {
   "cell_type": "code",
   "execution_count": 13,
   "metadata": {},
   "outputs": [
    {
     "data": {
      "image/png": "[encoded data removed]",
      "text/plain": [
       "<Figure size 360x288 with 1 Axes>"
      ]
     },
     "metadata": {
      "needs_background": "light"
     },
     "output_type": "display_data"
    }
   ],
   "source": [
    "#%matplotlib\n",
    "%matplotlib inline\n",
    "\n",
    "ncol=1\n",
    "\n",
    "fig,ax = plt.subplots(1,ncol,figsize=(5,4))\n",
    "ax.imshow(data0,extent=[v_min, v_MAX, x_min, x_MAX ], aspect='auto')\n",
    "\n",
    "vcen = 0.\n",
    "\n",
    "ax.axhline(y=0.0,color='white', linestyle='-',lw=1)\n",
    "ax.axhline(y=0.5,color='white', linestyle=':',lw=1)\n",
    "ax.axhline(y=-0.5,color='white', linestyle=':',lw=1)\n",
    "ax.axvline(x=vcen,color='white', linestyle='-',lw=1)\n",
    "ax.axvline(x=vcen+100,color='white', linestyle=':',lw=1)\n",
    "ax.axvline(x=vcen-100,color='white', linestyle=':',lw=1)\n",
    "ax.axvline(x=vcen+200,color='white', linestyle=':',lw=1)\n",
    "ax.axvline(x=vcen-200,color='white', linestyle=':',lw=1)\n",
    "    \n",
    "#ax.set_xlim(-220,220)\n",
    "#ax.set_ylim(-1.5,1.5)\n",
    "\n",
    "\n",
    "plt.show()"
   ]
  },
  {
   "cell_type": "code",
   "execution_count": null,
   "metadata": {},
   "outputs": [],
   "source": []
  },
  {
   "cell_type": "code",
   "execution_count": null,
   "metadata": {},
   "outputs": [],
   "source": []
  }
 ],
 "metadata": {
  "kernelspec": {
   "display_name": "Python 3",
   "language": "python",
   "name": "python3"
  },
  "language_info": {
   "codemirror_mode": {
    "name": "ipython",
    "version": 3
   },
   "file_extension": ".py",
   "mimetype": "text/x-python",
   "name": "python",
   "nbconvert_exporter": "python",
   "pygments_lexer": "ipython3",
   "version": "3.7.4"
  }
 },
 "nbformat": 4,
 "nbformat_minor": 4
}