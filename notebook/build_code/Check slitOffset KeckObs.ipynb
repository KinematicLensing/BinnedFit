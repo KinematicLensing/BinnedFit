{
 "cells": [
  {
   "cell_type": "code",
   "execution_count": 1,
   "metadata": {},
   "outputs": [],
   "source": [
    "import sys\n",
    "sys.path.append(\"../repo/KLens/\")\n",
    "sys.path.append(\"../repo/kl_measurement/\")"
   ]
  },
  {
   "cell_type": "code",
   "execution_count": 2,
   "metadata": {},
   "outputs": [],
   "source": [
    "import numpy as np\n",
    "import os\n",
    "import sys\n",
    "import copy\n",
    "from astropy.io import fits\n",
    "import galsim\n",
    "from scipy.interpolate import interp1d\n",
    "from scipy.ndimage.interpolation import rotate\n",
    "import tfCube\n",
    "import matplotlib as mpl\n",
    "import matplotlib.pyplot as plt\n",
    "from mpl_toolkits.axes_grid1 import make_axes_locatable\n",
    "from matplotlib.backends.backend_pdf import PdfPages"
   ]
  },
  {
   "cell_type": "code",
   "execution_count": 10,
   "metadata": {},
   "outputs": [],
   "source": [
    "def getSlitSpectra(data=None, pars=None):\n",
    "    #weights = getSlitWeights(pars)\n",
    "    spectra = []\n",
    "    extent = pars['image_size'] * pars['pixScale']\n",
    "    subGridPixScale = extent*1./pars['ngrid']\n",
    "    grid = np.arange(-extent/2., extent/2., subGridPixScale)\n",
    "    xx,yy = np.meshgrid(grid,grid)\n",
    "    slit_weight = np.ones((pars['ngrid'],pars['ngrid']))\n",
    "    slit_weight[np.abs(yy-pars['slitOffset']) > pars['slitWidth']/2.] = 0.\n",
    "        \n",
    "    for this_slit_angle in pars['slitAngles']:\n",
    "        this_data = rotate(data, -this_slit_angle*(180./np.pi),reshape=False)\n",
    "        spectra.append(np.sum(this_data*slit_weight[:,:,np.newaxis],axis=0))\n",
    "    return spectra"
   ]
  },
  {
   "cell_type": "code",
   "execution_count": 4,
   "metadata": {},
   "outputs": [],
   "source": [
    "pars = tfCube.getParams(redshift = 0.2)\n",
    "pars['type_of_observation'] = 'slit'\n",
    "# to make things practical during testing, increase the spaxel size.\n",
    "pars['g1'] = 0.0\n",
    "pars['g2'] = 0.0\n",
    "pars['nm_per_pixel'] = 0.025\n",
    "pars['expTime'] = 10000.\n",
    "pars['pixScale'] = 0.032\n",
    "pars['Resolution'] = 5000\n",
    "pars['sini'] = 0.5\n",
    "pars['aspect'] = 0.2\n",
    "pars['vcirc'] = 200.\n",
    "pars['area'] = 3.14*(1000./2.)**2\n",
    "pars['linelist']['flux'][pars['linelist']['species'] == 'Halpha'] = 6e-24\n",
    "pars['norm'] = 6e-24\n",
    "pars['lambda_min'] = (1 + pars['redshift']) * pars['linelist']['lambda'][pars['linelist']['species'] == 'Halpha'] - 2\n",
    "pars['lambda_max'] = (1 + pars['redshift']) * pars['linelist']['lambda'][pars['linelist']['species'] == 'Halpha'] + 2\n",
    "\n",
    "pars['knot_fraction']=0.\n",
    "\n",
    "lines = pars['linelist']\n",
    "pars['half_light_radius'] = 0.5\n",
    "#lines['flux'] = 1e-25 * 1e-9 # We seem to need another factor of 1e-9 here.\n",
    "#pars['linelist'] = lines\n",
    "pars['slitAngles'] = np.array([0.])#np.linspace(-np.pi/4., np.pi/2., 3)\n",
    "pars['slitWidth']  = 0.3\n",
    "pars['slitOffset'] = 0.0\n",
    "# define some fiber parameters\n",
    "#nfiber = 5\n",
    "#r_off = 1.5\n",
    "pars['fiber_size'] = 1.0\n",
    "pars['psfFWHM'] = .25\n",
    "pars['vscale'] = pars['half_light_radius']\n",
    "pars['ngrid'] = 256\n",
    "pars['image_size'] = 128\n",
    "\n",
    "extent =  pars['image_size'] * pars['pixScale']\n",
    "subGridPixScale = extent*1./pars['ngrid']"
   ]
  },
  {
   "cell_type": "code",
   "execution_count": 5,
   "metadata": {},
   "outputs": [],
   "source": [
    "aperture = galsim.Image(pars['ngrid'], pars['ngrid'],scale=subGridPixScale)"
   ]
  },
  {
   "cell_type": "code",
   "execution_count": 6,
   "metadata": {},
   "outputs": [
    {
     "name": "stdout",
     "output_type": "stream",
     "text": [
      "returning:\n",
      "lambda, observation, model, sky (the last three are (npix, npix, nspax) datacubes)\n"
     ]
    }
   ],
   "source": [
    "obsLambda, obsGrid, modelGrid, skyGrid = tfCube.getTFcube(pars,aperture,[0.,0.])"
   ]
  },
  {
   "cell_type": "code",
   "execution_count": null,
   "metadata": {},
   "outputs": [],
   "source": []
  },
  {
   "cell_type": "code",
   "execution_count": 23,
   "metadata": {},
   "outputs": [
    {
     "data": {
      "text/plain": [
       "array([59958.4916])"
      ]
     },
     "execution_count": 23,
     "metadata": {},
     "output_type": "execute_result"
    }
   ],
   "source": [
    "lambda_cen = (pars['lambda_min']+pars['lambda_max'])/2.0\n",
    "lambda0=656.461\n",
    "c = 299792.458\n",
    "v_cen1 =(lambda_cen-lambda0)/lambda0*c\n",
    "v_cen1"
   ]
  },
  {
   "cell_type": "code",
   "execution_count": 25,
   "metadata": {},
   "outputs": [
    {
     "data": {
      "text/plain": [
       "59958.4916"
      ]
     },
     "execution_count": 25,
     "metadata": {},
     "output_type": "execute_result"
    }
   ],
   "source": [
    "v_cen2=0.2*c\n",
    "v_cen2"
   ]
  },
  {
   "cell_type": "code",
   "execution_count": 7,
   "metadata": {},
   "outputs": [],
   "source": [
    "def velocity_mimMAX(lambda0,redshift,lambda_minMAX):\n",
    "    c = 299792.458\n",
    "    lambda_cen = lambda0*(1+redshift)\n",
    "    v_cen      = redshift*c\n",
    "    v_min      = (lambda_minMAX[0]-lambda0)/lambda0*c - v_cen\n",
    "    v_MAX      = (lambda_minMAX[1]-lambda0)/lambda0*c - v_cen\n",
    "    return v_min,v_MAX"
   ]
  },
  {
   "cell_type": "code",
   "execution_count": 8,
   "metadata": {},
   "outputs": [],
   "source": [
    "v_min,v_MAX = velocity_mimMAX(lambda0=656.461,redshift=0.2,lambda_minMAX=[np.min(obsLambda),np.max(obsLambda)])"
   ]
  },
  {
   "cell_type": "code",
   "execution_count": 9,
   "metadata": {},
   "outputs": [
    {
     "data": {
      "text/plain": [
       "(-913.3595384950677, 901.9425442622014)"
      ]
     },
     "execution_count": 9,
     "metadata": {},
     "output_type": "execute_result"
    }
   ],
   "source": [
    "v_min,v_MAX"
   ]
  },
  {
   "cell_type": "markdown",
   "metadata": {},
   "source": [
    "\n",
    "# slitOffset"
   ]
  },
  {
   "cell_type": "code",
   "execution_count": 11,
   "metadata": {},
   "outputs": [],
   "source": [
    "pars['slitOffset'] = 0.0\n",
    "pars['slitWidth']  = 0.3\n",
    "data_00 = getSlitSpectra(data=modelGrid,pars=pars)"
   ]
  },
  {
   "cell_type": "code",
   "execution_count": 12,
   "metadata": {},
   "outputs": [],
   "source": [
    "pars['slitOffset'] = 0.5\n",
    "pars['slitWidth']  = 0.3\n",
    "data_0i = getSlitSpectra(data=modelGrid,pars=pars)"
   ]
  },
  {
   "cell_type": "code",
   "execution_count": 20,
   "metadata": {},
   "outputs": [
    {
     "name": "stdout",
     "output_type": "stream",
     "text": [
      "Using matplotlib backend: MacOSX\n"
     ]
    }
   ],
   "source": [
    "%matplotlib\n",
    "\n",
    "ncol=3\n",
    "\n",
    "fig,ax = plt.subplots(1,ncol,figsize=(20,4))\n",
    "#ax[0].imshow(np.sum(modelGrid,axis=2))\n",
    "ax[0].imshow(data_00[0],extent=[v_min, v_MAX,-pars['ngrid']/2*pars['pixScale'],pars['ngrid']/2.*pars['pixScale'] ], aspect='auto')\n",
    "ax[1].imshow(data_0i[0],extent=[v_min, v_MAX,-pars['ngrid']/2*pars['pixScale'],pars['ngrid']/2.*pars['pixScale']], aspect='auto')\n",
    "ax[2].imshow((data_00[0]-data_0i[0])/data_00[0],extent=[v_min, v_MAX,-pars['ngrid']/2*pars['pixScale'],pars['ngrid']/2.*pars['pixScale']], aspect='auto')\n",
    "\n",
    "#ycen = (pars['lambda_min']+pars['lambda_max'])/2.\n",
    "vcen = 0.\n",
    "\n",
    "\n",
    "for j in range(ncol):\n",
    "    ax[j].axhline(y=0.0,color='white', linestyle='-',lw=1)\n",
    "    ax[j].axhline(y=0.5,color='white', linestyle=':',lw=1)\n",
    "    ax[j].axhline(y=-0.5,color='white', linestyle=':',lw=1)\n",
    "    ax[j].axvline(x=vcen,color='white', linestyle='-',lw=1)\n",
    "    ax[j].axvline(x=vcen+100,color='white', linestyle=':',lw=1)\n",
    "    ax[j].axvline(x=vcen-100,color='white', linestyle=':',lw=1)\n",
    "    ax[j].axvline(x=vcen+200,color='white', linestyle=':',lw=1)\n",
    "    ax[j].axvline(x=vcen-200,color='white', linestyle=':',lw=1)\n",
    "    \n",
    "plt.show()"
   ]
  },
  {
   "cell_type": "code",
   "execution_count": null,
   "metadata": {},
   "outputs": [],
   "source": []
  },
  {
   "cell_type": "markdown",
   "metadata": {},
   "source": [
    "# slitWidth"
   ]
  },
  {
   "cell_type": "code",
   "execution_count": 14,
   "metadata": {},
   "outputs": [],
   "source": [
    "pars['slitOffset'] = 0.0\n",
    "pars['slitWidth']  = 0.03\n",
    "data_00 = getSlitSpectra(data=modelGrid,pars=pars)"
   ]
  },
  {
   "cell_type": "code",
   "execution_count": 15,
   "metadata": {},
   "outputs": [],
   "source": [
    "pars['slitOffset'] = 0.0\n",
    "pars['slitWidth']  = 0.6\n",
    "data_0i = getSlitSpectra(data=modelGrid,pars=pars)"
   ]
  },
  {
   "cell_type": "code",
   "execution_count": 16,
   "metadata": {},
   "outputs": [
    {
     "name": "stdout",
     "output_type": "stream",
     "text": [
      "Using matplotlib backend: MacOSX\n"
     ]
    }
   ],
   "source": [
    "%matplotlib\n",
    "\n",
    "ncol=3\n",
    "\n",
    "fig,ax = plt.subplots(1,ncol,figsize=(20,4))\n",
    "#ax[0].imshow(np.sum(modelGrid,axis=2))\n",
    "ax[0].imshow(data_00[0],extent=[v_min, v_MAX,-pars['ngrid']/2*pars['pixScale'],pars['ngrid']/2.*pars['pixScale']], aspect='auto')\n",
    "ax[1].imshow(data_0i[0],extent=[v_min, v_MAX,-pars['ngrid']/2*pars['pixScale'],pars['ngrid']/2.*pars['pixScale']], aspect='auto')\n",
    "ax[2].imshow((data_00[0]-data_0i[0])/data_00[0],extent=[v_min, v_MAX,-pars['ngrid']/2*pars['pixScale'],pars['ngrid']/2.*pars['pixScale']], aspect='auto')\n",
    "\n",
    "#ycen = (pars['lambda_min']+pars['lambda_max'])/2.\n",
    "vcen = 0.\n",
    "\n",
    "for j in range(ncol):\n",
    "    ax[j].axhline(y=0.0,color='white', linestyle='-',lw=1)\n",
    "    ax[j].axhline(y=0.5,color='white', linestyle=':',lw=1)\n",
    "    ax[j].axhline(y=-0.5,color='white', linestyle=':',lw=1)\n",
    "    ax[j].axvline(x=vcen,color='white', linestyle='-',lw=1)\n",
    "    ax[j].axvline(x=vcen+100,color='white', linestyle=':',lw=1)\n",
    "    ax[j].axvline(x=vcen-100,color='white', linestyle=':',lw=1)\n",
    "    ax[j].axvline(x=vcen+200,color='white', linestyle=':',lw=1)\n",
    "    ax[j].axvline(x=vcen-200,color='white', linestyle=':',lw=1)\n",
    "    \n",
    "plt.show()"
   ]
  },
  {
   "cell_type": "code",
   "execution_count": null,
   "metadata": {},
   "outputs": [],
   "source": []
  },
  {
   "cell_type": "code",
   "execution_count": null,
   "metadata": {},
   "outputs": [],
   "source": []
  },
  {
   "cell_type": "code",
   "execution_count": 132,
   "metadata": {},
   "outputs": [
    {
     "data": {
      "text/plain": [
       "(256, 160)"
      ]
     },
     "execution_count": 132,
     "metadata": {},
     "output_type": "execute_result"
    }
   ],
   "source": [
    "data_00[0].shape"
   ]
  },
  {
   "cell_type": "code",
   "execution_count": 133,
   "metadata": {},
   "outputs": [
    {
     "data": {
      "text/plain": [
       "array([[19.24160819, 19.24282675, 19.24404536, ..., 19.43339562,\n",
       "        19.43462024, 19.43584491],\n",
       "       [19.99519809, 19.99646438, 19.99773071, ..., 20.1944968 ,\n",
       "        20.19576939, 20.19704201],\n",
       "       [20.77820961, 20.77952549, 20.78084141, ..., 20.98531285,\n",
       "        20.98663527, 20.98795773],\n",
       "       ...,\n",
       "       [20.75502846, 20.75634287, 20.75765732, ..., 20.96190009,\n",
       "        20.96322104, 20.96454202],\n",
       "       [19.97286211, 19.97412698, 19.97539189, ..., 20.17193765,\n",
       "        20.17320881, 20.17448001],\n",
       "       [19.22008751, 19.22130471, 19.22252195, ..., 19.41165992,\n",
       "        19.41288317, 19.41410646]])"
      ]
     },
     "execution_count": 133,
     "metadata": {},
     "output_type": "execute_result"
    }
   ],
   "source": [
    "data_00[0]"
   ]
  },
  {
   "cell_type": "code",
   "execution_count": 19,
   "metadata": {},
   "outputs": [
    {
     "name": "stdout",
     "output_type": "stream",
     "text": [
      "Using matplotlib backend: MacOSX\n"
     ]
    }
   ],
   "source": [
    "%matplotlib\n",
    "plt.imshow(data_00[0])\n",
    "plt.show()"
   ]
  },
  {
   "cell_type": "code",
   "execution_count": null,
   "metadata": {},
   "outputs": [],
   "source": []
  },
  {
   "cell_type": "code",
   "execution_count": null,
   "metadata": {},
   "outputs": [],
   "source": []
  },
  {
   "cell_type": "code",
   "execution_count": 24,
   "metadata": {},
   "outputs": [
    {
     "name": "stdout",
     "output_type": "stream",
     "text": [
      "Using matplotlib backend: MacOSX\n"
     ]
    }
   ],
   "source": [
    "%matplotlib\n",
    "fig,axes = plt.subplots(nrows=1,ncols=len(data)+1,figsize=(6*(len(data)+1),6))\n",
    "axes[0].imshow(np.sum(modelGrid,axis=2))\n",
    "for ispec,ax in zip(data,axes[1:]):\n",
    "    ax.imshow(ispec,extent=[-pars['ngrid']/2*pars['pixScale'],pars['ngrid']/2.*pars['pixScale'], np.min(obsLambda), np.max(obsLambda)])\n",
    "    ax.axvline(x=0.0,color='white', linestyle='-')\n",
    "\n",
    "#fig.savefig('model_keck_spectra.pdf',format='pdf')\n",
    "plt.show()"
   ]
  },
  {
   "cell_type": "code",
   "execution_count": null,
   "metadata": {},
   "outputs": [],
   "source": []
  },
  {
   "cell_type": "code",
   "execution_count": null,
   "metadata": {},
   "outputs": [],
   "source": []
  },
  {
   "cell_type": "code",
   "execution_count": null,
   "metadata": {},
   "outputs": [],
   "source": []
  }
 ],
 "metadata": {
  "kernelspec": {
   "display_name": "Python 3",
   "language": "python",
   "name": "python3"
  },
  "language_info": {
   "codemirror_mode": {
    "name": "ipython",
    "version": 3
   },
   "file_extension": ".py",
   "mimetype": "text/x-python",
   "name": "python",
   "nbconvert_exporter": "python",
   "pygments_lexer": "ipython3",
   "version": "3.7.4"
  }
 },
 "nbformat": 4,
 "nbformat_minor": 2
}
